{
  "cells": [
    {
      "cell_type": "markdown",
      "metadata": {
        "id": "gO2fCSCjiOlz"
      },
      "source": [
        "##**Imports**"
      ]
    },
    {
      "cell_type": "code",
      "execution_count": 1,
      "metadata": {
        "id": "NcdW_FN3_JCr"
      },
      "outputs": [],
      "source": [
        "# !pip install mlflow --quiet"
      ]
    },
    {
      "cell_type": "code",
      "execution_count": 2,
      "metadata": {
        "id": "JLqSpUHljxVZ"
      },
      "outputs": [],
      "source": [
        "import matplotlib.pyplot as plt\n",
        "import numpy as np\n",
        "import pandas as pd\n",
        "import os\n",
        "import PIL\n",
        "import tensorflow as tf\n",
        "# import mlflow\n",
        "# import mlflow.sklearn\n",
        "\n",
        "from tensorflow import keras\n",
        "from tensorflow.keras import layers\n",
        "from tensorflow.keras.models import Sequential, Model\n",
        "from tensorflow.keras.optimizers import Adam\n",
        "from sklearn.metrics import confusion_matrix, classification_report, accuracy_score\n",
        "from struct import unpack\n",
        "from tqdm import tqdm"
      ]
    },
    {
      "cell_type": "code",
      "execution_count": 3,
      "metadata": {
        "id": "rOkAyvShfq2u"
      },
      "outputs": [],
      "source": [
        "from pydrive2.auth import GoogleAuth\n",
        "from pydrive2.drive import GoogleDrive\n",
        "from google.colab import auth\n",
        "from oauth2client.client import GoogleCredentials"
      ]
    },
    {
      "cell_type": "markdown",
      "metadata": {
        "id": "UiZGtkj6XWFQ"
      },
      "source": [
        "## **Utility Functions**"
      ]
    },
    {
      "cell_type": "code",
      "execution_count": 4,
      "metadata": {
        "id": "VdhwSUgUt0sU"
      },
      "outputs": [],
      "source": [
        "def eval_model_on_test(model, test_ds):\n",
        "\n",
        "    test_labels = []\n",
        "    predictions = []\n",
        "\n",
        "    for imgs, labels in tqdm(test_ds.take(1000),\n",
        "                             desc='Predicting on Test Data'):\n",
        "        batch_preds = model.predict(imgs)\n",
        "        predictions.extend(batch_preds)\n",
        "        test_labels.extend(labels)\n",
        "    if len(predictions[0]) > 1:\n",
        "        predictions = np.argmax(predictions, axis=1)\n",
        "    else:\n",
        "        predictions = np.array(predictions)\n",
        "\n",
        "    test_labels = np.array(test_labels)\n",
        "\n",
        "    return test_labels, predictions\n",
        "\n",
        "def plot_accuracy_loss(training_history):\n",
        "    acc = training_history.history['accuracy']\n",
        "    val_acc = training_history.history['val_accuracy']\n",
        "\n",
        "    loss = training_history.history['loss']\n",
        "    val_loss = training_history.history['val_loss']\n",
        "\n",
        "    epochs_range = training_history.epoch\n",
        "\n",
        "    plt.figure(figsize=(12, 6))\n",
        "    plt.subplot(1, 2, 1)\n",
        "    plt.plot(epochs_range, acc, label='Training Accuracy')\n",
        "    plt.plot(epochs_range, val_acc, label='Validation Accuracy')\n",
        "    plt.legend(loc='lower right')\n",
        "    plt.title('Training and Validation Accuracy (Base)')\n",
        "\n",
        "    plt.subplot(1, 2, 2)\n",
        "    plt.plot(epochs_range, loss, label='Training Loss')\n",
        "    plt.plot(epochs_range, val_loss, label='Validation Loss')\n",
        "    plt.legend(loc='upper right')\n",
        "    plt.title('Training and Validation Loss (Base)')\n",
        "    plt.show()\n",
        "\n",
        "def print_layer_trainable(model):\n",
        "    \"\"\"prints out layer names and if they are trainable or not of a given model\"\"\"\n",
        "\n",
        "    print('trainable : layer name')\n",
        "    print('- '*30)\n",
        "    for layer in model.layers:\n",
        "      # if layer.trainable:\n",
        "        print(\"{0}:\\t{1}\".format(layer.trainable, layer.name))\n",
        "\n",
        "    return\n",
        "\n",
        "def escape_fname(name):\n",
        "    return name.replace('/','_')\n",
        "\n",
        "def search_folder(folder_id, root):\n",
        "    MAX_FILE_COUNT = 250\n",
        "    file_list = drive.ListFile({'q': \"'%s' in parents and trashed=false\" % folder_id}).GetList()\n",
        "    # file_list.count\n",
        "    cnt = 0\n",
        "    for file in file_list:\n",
        "        cnt += 1\n",
        "        if cnt > MAX_FILE_COUNT: #Stop creating files in the local directory if the number of files > MAX_FILE_COUNT\n",
        "          break\n",
        "        # print('title: %s, id: %s, kind: %s' % (file['title'], file['id'], file['mimeType']))\n",
        "        # print(file)\n",
        "        if file['mimeType'].split('.')[-1] == 'folder':\n",
        "            prod_cat_foldername = file['title'].split('_')[0]\n",
        "            prod_cat_folder = create_folder(root, prod_cat_foldername)\n",
        "            class_foldername = escape_fname(file['title'])\n",
        "            class_folder = create_folder(prod_cat_folder+'/', class_foldername)\n",
        "            search_folder(file['id'], class_folder)\n",
        "        else:\n",
        "            # download_mimetype = None\n",
        "            filename = escape_fname(file['title'])\n",
        "            filename = '{}{}'.format(root+'/', filename)\n",
        "            try:\n",
        "                file.GetContentFile(filename)\n",
        "            except:\n",
        "                print('FAILED')\n",
        "                f.write(filename+'\\n')\n",
        "\n",
        "def create_folder(path,name):\n",
        "    folder = '{}{}'.format(path,escape_fname(name))\n",
        "    if not os.path.isdir(folder):\n",
        "      print(f\"Creating folder: {folder}\")\n",
        "      os.mkdir(folder)\n",
        "    return folder\n",
        "\n",
        "def search_processed_datasets_folder(folder_id, root):\n",
        "    file_list = drive.ListFile({'q': \"'%s' in parents and trashed=false\" % folder_id}).GetList()\n",
        "    for file in file_list:\n",
        "        # print('title: %s, id: %s, kind: %s' % (file['title'], file['id'], file['mimeType']))\n",
        "        # print(file)\n",
        "        if file['mimeType'].split('.')[-1] == 'folder':\n",
        "            folder = create_folder(root+'/', file['title'])\n",
        "            search_processed_datasets_folder(file['id'], root+'/'+file['title'])\n",
        "        else:\n",
        "            # download_mimetype = None\n",
        "            filename = '{}{}'.format(root+'/', file['title'])\n",
        "            try:\n",
        "                file.GetContentFile(filename)\n",
        "            except:\n",
        "                print('FAILED')\n",
        "                f.write(filename+'\\n')\n",
        "\n",
        "def get_folder_info(folder_id):\n",
        "    file_list = drive.ListFile({'q': \"'%s' in parents and trashed=false\" % folder_id}).GetList()\n",
        "    print(f'Number of folders/files in folder = {len(file_list)}')\n",
        "    for file in file_list:\n",
        "        if file['mimeType'].split('.')[-1] == 'folder':\n",
        "            print(f\"Folder Name = {file['title']}\")\n",
        "            get_folder_info(file['id'])\n",
        "        else:\n",
        "            pass"
      ]
    },
    {
      "cell_type": "markdown",
      "metadata": {
        "id": "d4_s8nt34jhM"
      },
      "source": [
        "##**Step 0: If you have already created the Train, Validation and Test datasets and stored it in GDrive then you can skip Steps 1 and 2 (otherwise skip Step 0 and go to Step 1)**"
      ]
    },
    {
      "cell_type": "code",
      "execution_count": 5,
      "metadata": {
        "colab": {
          "base_uri": "https://localhost:8080/"
        },
        "id": "FuInDNDGm6qZ",
        "outputId": "76b5b2d8-76b7-490f-8a87-92f3ee65749e"
      },
      "outputs": [
        {
          "output_type": "stream",
          "name": "stdout",
          "text": [
            "Creating folder: ./data/processed/bag\n",
            "Creating folder: ./data/processed/bag/test_dataset\n",
            "Creating folder: ./data/processed/bag/test_dataset/7675821213704089024\n",
            "Creating folder: ./data/processed/bag/test_dataset/7675821213704089024/00000000.shard\n",
            "Creating folder: ./data/processed/bag/test_dataset/1066113611490136018\n",
            "Creating folder: ./data/processed/bag/test_dataset/1066113611490136018/00000000.shard\n",
            "Creating folder: ./data/processed/bag/train_dataset\n",
            "Creating folder: ./data/processed/bag/train_dataset/13566746268163081920\n",
            "Creating folder: ./data/processed/bag/train_dataset/13566746268163081920/00000000.shard\n",
            "Creating folder: ./data/processed/bag/train_dataset/6007611454123508922\n",
            "Creating folder: ./data/processed/bag/train_dataset/6007611454123508922/00000000.shard\n",
            "Creating folder: ./data/processed/bag/val_dataset\n",
            "Creating folder: ./data/processed/bag/val_dataset/8589842609783317368\n",
            "Creating folder: ./data/processed/bag/val_dataset/8589842609783317368/00000000.shard\n",
            "Creating folder: ./data/processed/bag/val_dataset/11267737835766827313\n",
            "Creating folder: ./data/processed/bag/val_dataset/11267737835766827313/00000000.shard\n",
            "Creating folder: ./data/processed/bag_old\n",
            "Creating folder: ./data/processed/bag_old/test_dataset\n",
            "Creating folder: ./data/processed/bag_old/test_dataset/10708988183537814467\n",
            "Creating folder: ./data/processed/bag_old/test_dataset/10708988183537814467/00000000.shard\n",
            "Creating folder: ./data/processed/bag_old/val_dataset\n",
            "Creating folder: ./data/processed/bag_old/val_dataset/7094108079719339233\n",
            "Creating folder: ./data/processed/bag_old/val_dataset/7094108079719339233/00000000.shard\n",
            "Creating folder: ./data/processed/bag_old/train_dataset\n",
            "Creating folder: ./data/processed/bag_old/train_dataset/13562169807097260504\n",
            "Creating folder: ./data/processed/bag_old/train_dataset/13562169807097260504/00000000.shard\n",
            "Creating folder: ./data/processed/clothes_new\n",
            "Creating folder: ./data/processed/clothes_new/test_dataset\n",
            "Creating folder: ./data/processed/clothes_new/test_dataset/14824926411023993334\n",
            "Creating folder: ./data/processed/clothes_new/test_dataset/14824926411023993334/00000000.shard\n",
            "Creating folder: ./data/processed/clothes_new/val_dataset\n",
            "Creating folder: ./data/processed/clothes_new/val_dataset/17536195218980034604\n",
            "Creating folder: ./data/processed/clothes_new/val_dataset/17536195218980034604/00000000.shard\n",
            "Creating folder: ./data/processed/clothes_new/train_dataset\n",
            "Creating folder: ./data/processed/clothes_new/train_dataset/5852389765082682418\n",
            "Creating folder: ./data/processed/clothes_new/train_dataset/5852389765082682418/00000000.shard\n",
            "Creating folder: ./data/processed/schuhe\n",
            "Creating folder: ./data/processed/schuhe/train_dataset\n",
            "Creating folder: ./data/processed/schuhe/train_dataset/16987983935898993072\n",
            "Creating folder: ./data/processed/schuhe/train_dataset/16987983935898993072/00000000.shard\n",
            "Creating folder: ./data/processed/schuhe/val_dataset\n",
            "Creating folder: ./data/processed/schuhe/val_dataset/16589395308831395301\n",
            "Creating folder: ./data/processed/schuhe/val_dataset/16589395308831395301/00000000.shard\n",
            "Creating folder: ./data/processed/schuhe/test_dataset\n",
            "Creating folder: ./data/processed/schuhe/test_dataset/14676325214951781202\n",
            "Creating folder: ./data/processed/schuhe/test_dataset/14676325214951781202/00000000.shard\n",
            "Creating folder: ./data/processed/waesche\n",
            "Creating folder: ./data/processed/waesche/test_dataset\n",
            "Creating folder: ./data/processed/waesche/test_dataset/17258793944068401305\n",
            "Creating folder: ./data/processed/waesche/test_dataset/17258793944068401305/00000000.shard\n",
            "Creating folder: ./data/processed/waesche/val_dataset\n",
            "Creating folder: ./data/processed/waesche/val_dataset/799987118496484598\n",
            "Creating folder: ./data/processed/waesche/val_dataset/799987118496484598/00000000.shard\n",
            "Creating folder: ./data/processed/waesche/train_dataset\n",
            "Creating folder: ./data/processed/waesche/train_dataset/10168535837850319812\n",
            "Creating folder: ./data/processed/waesche/train_dataset/10168535837850319812/00000000.shard\n",
            "Creating folder: ./data/processed/clothes\n",
            "Creating folder: ./data/processed/clothes/test_dataset\n",
            "Creating folder: ./data/processed/clothes/test_dataset/2259970139835365178\n",
            "Creating folder: ./data/processed/clothes/test_dataset/2259970139835365178/00000000.shard\n",
            "Creating folder: ./data/processed/clothes/val_dataset\n",
            "Creating folder: ./data/processed/clothes/val_dataset/12753985873845356431\n",
            "Creating folder: ./data/processed/clothes/val_dataset/12753985873845356431/00000000.shard\n",
            "Creating folder: ./data/processed/clothes/train_dataset\n",
            "Creating folder: ./data/processed/clothes/train_dataset/17551521819505631909\n",
            "Creating folder: ./data/processed/clothes/train_dataset/17551521819505631909/00000000.shard\n"
          ]
        }
      ],
      "source": [
        "# If the Tensor Dataset have already been created and are available in a Google drive,\n",
        "# then you do not need to run the image loads and split the data into train, validation and test.\n",
        "# You can directly load the tensor datasets from the  google drive to your local environment and use it\n",
        "\n",
        "auth.authenticate_user()\n",
        "gauth = GoogleAuth()\n",
        "gauth.credentials = GoogleCredentials.get_application_default()\n",
        "drive = GoogleDrive(gauth)\n",
        "\n",
        "f = open(\"failed.txt\",\"w+\")\n",
        "processed_datasets_folder_id = '1_difVXO-_N1iMFzxMP2IFeD7e8tUhRBV' #F\n",
        "bags_folder_id = ''\n",
        "schuhe_folder_id = ''\n",
        "waesche_folder_id = '' # '1wh7Efgtn3Jeu5Ox6Xw-fNfHAmDYRTyTC'\n",
        "\n",
        "root = './data/processed'\n",
        "\n",
        "if not os.path.isdir(\"./data\"):\n",
        "  os.mkdir('./data')\n",
        "\n",
        "if not os.path.isdir(\"./data/processed\"):\n",
        "  os.mkdir('./data/processed')\n",
        "\n",
        "search_processed_datasets_folder(processed_datasets_folder_id, root) # search_processed_datasets_folder(waesche_folder_id, root) X\n",
        "f.close()"
      ]
    },
    {
      "cell_type": "code",
      "execution_count": 6,
      "metadata": {
        "id": "-3MpRkRFTOK6",
        "colab": {
          "base_uri": "https://localhost:8080/"
        },
        "outputId": "bb896d8c-b403-4049-8b6f-76688a0be812"
      },
      "outputs": [
        {
          "output_type": "stream",
          "name": "stderr",
          "text": [
            "WARNING:tensorflow:From <ipython-input-6-e3eb397d4b71>:22: load (from tensorflow.python.data.experimental.ops.io) is deprecated and will be removed in a future version.\n",
            "Instructions for updating:\n",
            "Use `tf.data.Dataset.load(...)` instead.\n"
          ]
        }
      ],
      "source": [
        "PRODUCT_CATEGORY = 'waesche' # 'clothes'\n",
        "# GDRIVE_FOLDER = 'MyDrive/Best_Secret/data/processed'\n",
        "\n",
        "IMG_HEIGHT = 427 # change this to the appropriate size based on the PRODUCT_CATEGORY selected above\n",
        "IMG_WIDTH = 350 # change this to the appropriate size based on the PRODUCT_CATEGORY selected above\n",
        "IMG_SHAPE = (427, 350, 3)\n",
        "\n",
        "# CLASSES = ['clothes_0_model_front'\n",
        "#            , 'clothes_1_zoomed'\n",
        "#            , 'clothes_2_model_back'\n",
        "#            , 'clothes_3_ghost'\n",
        "#            , 'clothes_4_look'\n",
        "#            ]\n",
        "\n",
        "CLASSES = ['waesche_0_model_front'\n",
        "           , 'waesche_1_zoomed'\n",
        "           , 'waesche_2_model_back'\n",
        "           , 'waesche_3_ghost'\n",
        "           , 'waesche_4_look'\n",
        "           ]\n",
        "\n",
        "train_ds = tf.data.experimental.load(f'./data/processed/{PRODUCT_CATEGORY}/train_dataset') # FIXME: WARNING:tensorflow:From <ipython-input-5-fb5572270b8c>:21: load (from tensorflow.python.data.experimental.ops.io) is deprecated and will be removed in a future version.\n",
        "                                                                                           # Instructions for updating: Use `tf.data.Dataset.load(...)` instead.\n",
        "val_ds = tf.data.experimental.load(f'./data/processed/{PRODUCT_CATEGORY}/val_dataset')\n",
        "test_ds = tf.data.experimental.load(f'./data/processed/{PRODUCT_CATEGORY}/test_dataset')\n",
        "\n",
        "# train_ds = tf.data.experimental.load(f'/content/drive/{GDRIVE_FOLDER}/{PRODUCT_CATEGORY}/train_dataset')\n",
        "# val_ds = tf.data.experimental.load(f'/content/drive/{GDRIVE_FOLDER}/{PRODUCT_CATEGORY}/val_dataset')\n",
        "# test_ds = tf.data.experimental.load(f'/content/drive/{GDRIVE_FOLDER}/{PRODUCT_CATEGORY}/test_dataset')"
      ]
    },
    {
      "cell_type": "code",
      "execution_count": 7,
      "metadata": {
        "id": "xm1WFShIYNmW"
      },
      "outputs": [],
      "source": [
        "# classes, class_count = np.unique(np.concatenate([y for x, y in train_ds], axis=0), return_counts=True)\n",
        "# print(\"Class distribution in Train:\")\n",
        "# for value, count in zip(classes, class_count):\n",
        "#     print(f\"{CLASSES[value]} occurs {count} times\")"
      ]
    },
    {
      "cell_type": "code",
      "execution_count": 8,
      "metadata": {
        "id": "mfKF4GeaXX8D"
      },
      "outputs": [],
      "source": [
        "# classes, class_count = np.unique(np.concatenate([y for x, y in val_ds], axis=0), return_counts=True)\n",
        "# print(\"Class distribution in Validation:\")\n",
        "# for value, count in zip(classes, class_count):\n",
        "#     print(f\"{CLASSES[value]} occurs {count} times\")"
      ]
    },
    {
      "cell_type": "code",
      "execution_count": 9,
      "metadata": {
        "id": "oLq3_RiSAvV5"
      },
      "outputs": [],
      "source": [
        "# classes, class_count = np.unique(np.concatenate([y for x, y in test_ds], axis=0), return_counts=True)\n",
        "# print(\"Class distribution in Test:\")\n",
        "# for value, count in zip(classes, class_count):\n",
        "#     print(f\"{CLASSES[value]} occurs {count} times\")"
      ]
    },
    {
      "cell_type": "code",
      "execution_count": 10,
      "metadata": {
        "id": "96udg9NPCrYU"
      },
      "outputs": [],
      "source": [
        "# for images, labels in test_ds.take(2):\n",
        "#   for i in range(9):\n",
        "#     plt.subplot(3, 3, i + 1)\n",
        "#     plt.imshow(images[i].numpy().astype(\"uint8\"))\n",
        "#     plt.title(CLASSES[labels[i]])\n",
        "#     plt.axis(\"off\")\n"
      ]
    },
    {
      "cell_type": "code",
      "execution_count": 11,
      "metadata": {
        "id": "ZzojXhg_HE3B"
      },
      "outputs": [],
      "source": [
        "# for images, labels in test_ds.take(4):\n",
        "#   print(\"First mismatch index 156 (i.e. 28 in the 5th batch of 32 images):\")\n",
        "#   plt.imshow(images[27].numpy().astype(\"uint8\"))\n",
        "#   plt.title(CLASSES[labels[27]])\n",
        "#   # print(f\"Predicted Class = {y_pred[156]}\")\n",
        "#   plt.axis(\"off\")\n",
        "\n",
        "#   print(\"Second mismatch index 160 (i.e. 32 in the 5th batch of 32 images):\")\n",
        "#   plt.imshow(images[31].numpy().astype(\"uint8\"))\n",
        "#   plt.title(CLASSES[labels[31]])\n",
        "#   # print(f\"Predicted Class = {y_pred[160]}\")\n",
        "#   plt.axis(\"off\")\n",
        "\n",
        "# for images, labels in test_ds.take(7):\n",
        "#   print(\"Third mismatch index 241 (i.e. 17 in the 8th batch of 32 images):\")\n",
        "#   plt.imshow(images[16].numpy().astype(\"uint8\"))\n",
        "#   plt.title(CLASSES[labels[16]])\n",
        "#   # print(f\"Predicted Class = {y_pred[241]}\")\n",
        "#   plt.axis(\"off\")"
      ]
    },
    {
      "cell_type": "markdown",
      "metadata": {
        "id": "3UIh-RdS4Y51"
      },
      "source": [
        "## **Step 1: Importing the Image data from Google drive**\n",
        "\n",
        "**Note:** we figured out how to download a nested folder structure allong with the files from Google Drive (instead of just one file) from the following StackOverflow discussion - https://stackoverflow.com/questions/46155300/pydrive-error-no-downloadlink-exportlinks-for-mimetype-found-in-metadata"
      ]
    },
    {
      "cell_type": "code",
      "execution_count": 12,
      "metadata": {
        "id": "Mk2ECyTL1X-2"
      },
      "outputs": [],
      "source": [
        "# auth.authenticate_user()\n",
        "# gauth = GoogleAuth()\n",
        "# gauth.credentials = GoogleCredentials.get_application_default()\n",
        "# drive = GoogleDrive(gauth)\n",
        "\n",
        "# f = open(\"failed.txt\",\"w+\")\n",
        "# # folder_id = '17NfTjPmDwCB5WO3FgM83Bmgdc631e8Ac' # Folder ID for image_data folder in Best Secrets GDrive (/Best Secret/Data/image_data)\n",
        "# folder_id = '1Dw7Ae8--BC0I5ROvg36sZB9nZSsGQnyv' # Folder ID for data_not_cleaned folder in Best Secrets GDrive (/Best Secret/Data/data_not_cleaned)\n",
        "\n",
        "# # Note: these folders should match the final project folder structure we create and may need to be updated\n",
        "# root = './data/raw'\n",
        "# # If the folders that we want to download the images to do not exit then create them as shown below:\n",
        "# if not os.path.isdir(\"./data\"):\n",
        "#   os.mkdir('./data')\n",
        "\n",
        "# if not os.path.isdir(\"./data/raw\"):\n",
        "#   os.mkdir('./data/raw')\n",
        "\n",
        "# search_folder(folder_id,root+'/')\n",
        "# f.close()"
      ]
    },
    {
      "cell_type": "code",
      "execution_count": 13,
      "metadata": {
        "id": "MHFFnMhxB1G6"
      },
      "outputs": [],
      "source": [
        "# get_folder_info(folder_id)"
      ]
    },
    {
      "cell_type": "markdown",
      "metadata": {
        "id": "Y4B3Ong3gr0r"
      },
      "source": [
        "##**Step 2: Load image data and split them into Train, Validation and Test**"
      ]
    },
    {
      "cell_type": "markdown",
      "metadata": {
        "id": "iFzRJUV44xsU"
      },
      "source": [
        "### **Step 2.1: Process the data from Step 1:**\n",
        "\n",
        "**Note:** there is a script we can run to find corrupted images. We ran this script and found an image (./image_data/raw/clothes/clothes_1_zoomed/32760559-001.jpg') that was corrupted and deleted it from the directory so it does not cause issues down stream when we train our models"
      ]
    },
    {
      "cell_type": "code",
      "execution_count": 14,
      "metadata": {
        "id": "pNhGrU28d__-"
      },
      "outputs": [],
      "source": [
        "# import pathlib\n",
        "# root = './data/raw'\n",
        "# data_dir = pathlib.Path(root)\n",
        "# data_dir"
      ]
    },
    {
      "cell_type": "code",
      "execution_count": 15,
      "metadata": {
        "id": "SbBQYYaKc0br"
      },
      "outputs": [],
      "source": [
        "# !sudo apt-get install tree"
      ]
    },
    {
      "cell_type": "code",
      "execution_count": 16,
      "metadata": {
        "id": "eo2cmuhLc266"
      },
      "outputs": [],
      "source": [
        "# !tree --dirsfirst --filelimit 6 './data/raw'"
      ]
    },
    {
      "cell_type": "code",
      "execution_count": 17,
      "metadata": {
        "id": "6hdSkQNodray"
      },
      "outputs": [],
      "source": [
        "# image_count = len(list(data_dir.glob('*/*/*.jpg')))\n",
        "# print(f\"Total number of images across all categories and classes = {image_count}\")"
      ]
    },
    {
      "cell_type": "code",
      "execution_count": 18,
      "metadata": {
        "id": "_RhsGiu9pMtK"
      },
      "outputs": [],
      "source": [
        "# clothes_0_model_front = list(data_dir.glob('bag/bag_0/*.jpg'))"
      ]
    },
    {
      "cell_type": "code",
      "execution_count": 19,
      "metadata": {
        "id": "oBPxRNPCqEqa"
      },
      "outputs": [],
      "source": [
        "# PIL.Image.open(str(clothes_0_model_front[4]))"
      ]
    },
    {
      "cell_type": "code",
      "execution_count": 20,
      "metadata": {
        "id": "JAP0C_k6SbhR"
      },
      "outputs": [],
      "source": [
        "# from struct import unpack\n",
        "# from tqdm import tqdm\n",
        "# import os\n",
        "\n",
        "# marker_mapping = {\n",
        "#     0xffd8: \"Start of Image\",\n",
        "#     0xffe0: \"Application Default Header\",\n",
        "#     0xffdb: \"Quantization Table\",\n",
        "#     0xffc0: \"Start of Frame\",\n",
        "#     0xffc4: \"Define Huffman Table\",\n",
        "#     0xffda: \"Start of Scan\",\n",
        "#     0xffd9: \"End of Image\"\n",
        "# }\n",
        "\n",
        "# class JPEG:\n",
        "#     def __init__(self, image_file):\n",
        "#         with open(image_file, 'rb') as f:\n",
        "#             self.img_data = f.read()\n",
        "\n",
        "#     def decode(self):\n",
        "#         data = self.img_data\n",
        "#         while(True):\n",
        "#             marker, = unpack(\">H\", data[0:2])\n",
        "#             # print(marker_mapping.get(marker))\n",
        "#             if marker == 0xffd8:\n",
        "#                 data = data[2:]\n",
        "#             elif marker == 0xffd9:\n",
        "#                 return\n",
        "#             elif marker == 0xffda:\n",
        "#                 data = data[-2:]\n",
        "#             else:\n",
        "#                 lenchunk, = unpack(\">H\", data[2:4])\n",
        "#                 data = data[2+lenchunk:]\n",
        "#             if len(data)==0:\n",
        "#                 raise TypeError(\"issue reading jpeg file\")\n",
        "\n",
        "# bads = []\n",
        "\n",
        "# img_dir = root\n",
        "\n",
        "# for dirName, subdirList, fileList in os.walk(img_dir):\n",
        "#     imagesList = fileList\n",
        "#     for img in tqdm(imagesList):\n",
        "#         image = os.path.join(dirName,img)\n",
        "#         image = JPEG(image)\n",
        "#         try:\n",
        "#             image.decode()\n",
        "#         except:\n",
        "#             bads.append(dirName+'/'+img)\n",
        "\n",
        "# #Show the bad images\n",
        "# bads\n",
        "\n",
        "# #remove the bad images\n",
        "# # note: we found the following image that was corrupted that we removed - ./raw/clothes/clothes_1_zoomed/32760559-001.jpg'\n",
        "# # for name in bads:\n",
        "# #   os.remove(name)"
      ]
    },
    {
      "cell_type": "markdown",
      "metadata": {
        "id": "m6ssktuZjAMt"
      },
      "source": [
        "**The script above found one corrupted image in the clothes_1_zoomed folder - './data/raw/clothes/clothes_1_zoomed/32760559-001.jpg'**\n",
        "\n",
        "![Screenshot 2024-02-01 at 5.54.12 PM.png](data:image/png;base64,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)"
      ]
    },
    {
      "cell_type": "code",
      "execution_count": 21,
      "metadata": {
        "id": "0KgyG-lvS-zO"
      },
      "outputs": [],
      "source": [
        "# bads"
      ]
    },
    {
      "cell_type": "code",
      "execution_count": 22,
      "metadata": {
        "id": "SSsjkQcHghus"
      },
      "outputs": [],
      "source": [
        "# # Delete the corrupted image from the folder\n",
        "# for name in bads:\n",
        "#   os.remove(name)"
      ]
    },
    {
      "cell_type": "code",
      "execution_count": 23,
      "metadata": {
        "id": "GLswSMdKnAZn"
      },
      "outputs": [],
      "source": [
        "# # Image count after deleting the corrupted image\n",
        "# image_count = len(list(data_dir.glob('*/*/*.jpg')))\n",
        "# print(f\"Total number of images across all categories and classes = {image_count}\")"
      ]
    },
    {
      "cell_type": "markdown",
      "metadata": {
        "id": "4Lr3xqaV_eTZ"
      },
      "source": [
        "###**Step 2.1: Split data into Train, Validatin and Test**"
      ]
    },
    {
      "cell_type": "code",
      "execution_count": 24,
      "metadata": {
        "id": "_e_M87tOp_ku"
      },
      "outputs": [],
      "source": [
        "# RANDOM_SEED = 42\n",
        "# #VAL_SPLIT = 0.4\n",
        "# PRODUCT_CATEGORY = 'clothes' # 'waesche' 'schuhe' 'bag'\n",
        "# BATCH_SIZE = 32\n",
        "# IMG_HEIGHT = 427 # change this to the appropriate size based on the PRODUCT_CATEGORY selected above\n",
        "# IMG_WIDTH = 350 # change this to the appropriate size based on the PRODUCT_CATEGORY selected above\n",
        "# SHUFFLE = True\n",
        "\n",
        "# PROD_DATA_DIR = pathlib.Path(root+'/'+PRODUCT_CATEGORY)\n",
        "# CLASSES = [PRODUCT_CATEGORY+'_0'\n",
        "#            , PRODUCT_CATEGORY+'_1'\n",
        "#            , PRODUCT_CATEGORY+'_2'\n",
        "#            , PRODUCT_CATEGORY+'_3'\n",
        "#            , PRODUCT_CATEGORY+'_4'\n",
        "#            ]\n",
        "\n",
        "# # This code gives the classes\n",
        "# # for item in os.scandir(PROD_DATA_DIR):\n",
        "# #     if not item.name.startswith('.'): #dont include any hidden files or dirs that may be in the folder (more applicable when running on local machine)\n",
        "# #         CLASSES.append(item.name)"
      ]
    },
    {
      "cell_type": "code",
      "execution_count": 25,
      "metadata": {
        "colab": {
          "base_uri": "https://localhost:8080/"
        },
        "id": "wvuDEWPhmGxo",
        "outputId": "72111b3b-b2ad-4808-ee0c-13756d021914"
      },
      "outputs": [
        {
          "output_type": "execute_result",
          "data": {
            "text/plain": [
              "['waesche_0_model_front',\n",
              " 'waesche_1_zoomed',\n",
              " 'waesche_2_model_back',\n",
              " 'waesche_3_ghost',\n",
              " 'waesche_4_look']"
            ]
          },
          "metadata": {},
          "execution_count": 25
        }
      ],
      "source": [
        "CLASSES"
      ]
    },
    {
      "cell_type": "code",
      "execution_count": 26,
      "metadata": {
        "id": "Y5yYAwTPGZSr"
      },
      "outputs": [],
      "source": [
        "# full_ds = tf.keras.preprocessing.image_dataset_from_directory(\n",
        "#   directory = PROD_DATA_DIR,\n",
        "#   seed=RANDOM_SEED,\n",
        "#   class_names=CLASSES,\n",
        "#   image_size=(IMG_HEIGHT, IMG_WIDTH),\n",
        "#   batch_size=BATCH_SIZE,\n",
        "#   shuffle = SHUFFLE)\n",
        "\n",
        "# ds_batches = tf.data.experimental.cardinality(full_ds)\n",
        "# train_ds = full_ds.take(((ds_batches) * 3) // 5) #60% of the data for training\n",
        "# val_test_ds = full_ds.skip(((ds_batches) * 3) // 5) #40% of the remaining data for validation and test\n",
        "\n",
        "# val_test_batches = tf.data.experimental.cardinality(val_test_ds)\n",
        "# val_ds = val_test_ds.take((val_test_batches) // 2) #50% of the val_test_ds for validation (20% of full_ds)\n",
        "# test_ds = val_test_ds.skip((val_test_batches) // 2) #50% of the val_test_ds for Test (20% of full_ds)\n",
        "\n",
        "# print(f'Train data size = {len(train_ds)*BATCH_SIZE}')\n",
        "# print(f'Validation data size = {len(val_ds)*BATCH_SIZE}')\n",
        "# print(f'Test data size = {len(test_ds)*BATCH_SIZE}')\n",
        "\n",
        "# # val_ds = tf.keras.preprocessing.image_dataset_from_directory(\n",
        "# #   directory = PROD_DATA_DIR,\n",
        "# #   validation_split=VAL_SPLIT,\n",
        "# #   subset=\"validation\",\n",
        "# #   seed=RANDOM_SEED,\n",
        "# #   class_names=CLASSES,\n",
        "# #   image_size=(IMG_HEIGHT, IMG_WIDTH),\n",
        "# #   batch_size=BATCH_SIZE,\n",
        "# #   shuffle = SHUFFLE)"
      ]
    },
    {
      "cell_type": "code",
      "execution_count": 27,
      "metadata": {
        "id": "DAAXBsbOpXLQ"
      },
      "outputs": [],
      "source": [
        "# classes, class_count = np.unique(np.concatenate([y for x, y in train_ds], axis=0), return_counts=True)\n",
        "# print(\"Class distribution in Train:\")\n",
        "# for value, count in zip(classes, class_count):\n",
        "#     print(f\"{CLASSES[value]} occurs {count} times\")"
      ]
    },
    {
      "cell_type": "code",
      "execution_count": 28,
      "metadata": {
        "id": "zYGhf5IZpfvj"
      },
      "outputs": [],
      "source": [
        "# classes, class_count = np.unique(np.concatenate([y for x, y in val_ds], axis=0), return_counts=True)\n",
        "# print(\"Class distribution in Validation:\")\n",
        "# for value, count in zip(classes, class_count):\n",
        "#     print(f\"{CLASSES[value]} occurs {count} times\")"
      ]
    },
    {
      "cell_type": "code",
      "execution_count": 29,
      "metadata": {
        "id": "oc3Ro2eQpo6l"
      },
      "outputs": [],
      "source": [
        "# classes, class_count = np.unique(np.concatenate([y for x, y in test_ds], axis=0), return_counts=True)\n",
        "# print(\"Class distribution in Test:\")\n",
        "# for value, count in zip(classes, class_count):\n",
        "#     print(f\"{CLASSES[value]} occurs {count} times\")"
      ]
    },
    {
      "cell_type": "markdown",
      "metadata": {
        "id": "ztG6L98Xp3Gl"
      },
      "source": [
        "###**Step 2.3: Save the Train, Val and Test tensor datasets so it can saved in a Google Drive to be used later. That way we dont have to download all images again and it is muh faster to train a new model with the same data (refer to Step 0)**"
      ]
    },
    {
      "cell_type": "code",
      "execution_count": 30,
      "metadata": {
        "id": "h1jJ4P78QGZh"
      },
      "outputs": [],
      "source": [
        "# if not os.path.isdir(\"./data/processed\"):\n",
        "#   os.mkdir('./data/processed')\n",
        "\n",
        "# if not os.path.isdir(\"./data/processed/\"+PRODUCT_CATEGORY):\n",
        "#   os.mkdir(\"./data/processed/\"+PRODUCT_CATEGORY)\n",
        "\n",
        "# tf.data.Dataset.save(train_ds, './data/processed/'+PRODUCT_CATEGORY+'/train_dataset')\n",
        "# tf.data.experimental.save(val_ds, './data/processed/'+PRODUCT_CATEGORY+'/val_dataset')\n",
        "# tf.data.experimental.save(test_ds, './data/processed/'+PRODUCT_CATEGORY+'/test_dataset')"
      ]
    },
    {
      "cell_type": "code",
      "execution_count": 31,
      "metadata": {
        "id": "N-wDGjZSncXW"
      },
      "outputs": [],
      "source": [
        "# # Check that the label and images match\n",
        "# plt.figure(figsize=(10, 10))\n",
        "# for images, labels in train_ds.take(1):\n",
        "#   for i in range(9):\n",
        "#     ax = plt.subplot(3, 3, i + 1)\n",
        "#     plt.imshow(images[i].numpy().astype(\"uint8\"))\n",
        "#     plt.title(CLASSES[labels[i]])\n",
        "#     plt.axis(\"off\")"
      ]
    },
    {
      "cell_type": "markdown",
      "metadata": {
        "id": "SWB494UpXWiG"
      },
      "source": [
        "## **Step 3: Create and train the base CNN model**"
      ]
    },
    {
      "cell_type": "code",
      "execution_count": 32,
      "metadata": {
        "id": "0hXYe9fNwrqG"
      },
      "outputs": [],
      "source": [
        "# # The caching helps speed up training after the first batch as the data is pulled from the cache for subsequent batches\n",
        "# AUTOTUNE = tf.data.experimental.AUTOTUNE\n",
        "\n",
        "# train_ds = train_ds.cache().prefetch(buffer_size=AUTOTUNE)\n",
        "# val_ds = val_ds.cache().prefetch(buffer_size=AUTOTUNE)"
      ]
    },
    {
      "cell_type": "code",
      "execution_count": 33,
      "metadata": {
        "id": "xOgP3cuuFO2W"
      },
      "outputs": [],
      "source": [
        "# import tensorflow as tf\n",
        "# from sklearn.metrics import confusion_matrix, classification_report, accuracy_score\n",
        "\n",
        "# def create_base_model(activation, initializer, regularizer, dropout_rate, num_start_cnn_neurons=32, num_dense_neurons=256):\n",
        "#     model = tf.keras.Sequential([\n",
        "\n",
        "#       tf.keras.layers.experimental.preprocessing.Rescaling(1./255, input_shape=(IMG_HEIGHT, IMG_WIDTH, 3)),\n",
        "\n",
        "#       tf.keras.layers.Conv2D(filters=num_start_cnn_neurons, kernel_size=(3, 3), padding='same', activation=activation, kernel_initializer=initializer, kernel_regularizer=regularizer),\n",
        "#       tf.keras.layers.MaxPooling2D(),\n",
        "#       tf.keras.layers.Dropout(rate=dropout_rate),\n",
        "\n",
        "#       tf.keras.layers.Conv2D(filters=num_start_cnn_neurons*2, kernel_size=(3, 3), padding='same', activation=activation, kernel_initializer=initializer, kernel_regularizer=regularizer),\n",
        "#       tf.keras.layers.MaxPooling2D(),\n",
        "#       tf.keras.layers.Dropout(rate=dropout_rate),\n",
        "\n",
        "#       tf.keras.layers.Conv2D(filters=num_start_cnn_neurons*4, kernel_size=(3, 3), padding='same', activation=activation, kernel_initializer=initializer, kernel_regularizer=regularizer),\n",
        "#       tf.keras.layers.MaxPooling2D(),\n",
        "#       tf.keras.layers.Dropout(rate=dropout_rate),\n",
        "\n",
        "#       tf.keras.layers.Flatten(),\n",
        "\n",
        "#       tf.keras.layers.Dense(num_dense_neurons, activation=activation, kernel_initializer=initializer, kernel_regularizer=regularizer),\n",
        "#       tf.keras.layers.Dropout(rate=dropout_rate),\n",
        "\n",
        "#       tf.keras.layers.Dense(len(CLASSES), activation='softmax')\n",
        "\n",
        "#     ])\n",
        "#     return model"
      ]
    },
    {
      "cell_type": "code",
      "execution_count": 34,
      "metadata": {
        "id": "VmLKmpGLHRPc"
      },
      "outputs": [],
      "source": [
        "# ACTIVATIONS = ['relu'\n",
        "#               #  , 'leaky_relu'\n",
        "#               #  , 'elu'\n",
        "#               #  , 'tanh'\n",
        "#               #  , 'selu'\n",
        "#               ]\n",
        "# INITIALIZERS = ['glorot_uniform'\n",
        "#                 # , 'glorot_normal'\n",
        "#                 # , 'he_normal'\n",
        "#                 # , 'lecun_normal'\n",
        "#                ]\n",
        "\n",
        "\n",
        "# KERNEL_REGULARIZERS = [ None\n",
        "#                       #  , 'l1'\n",
        "#                       #  , 'l2'\n",
        "#                       #  , 'l1_l2'\n",
        "#                       ]\n",
        "\n",
        "# DROPOUT_RATE = [0.0\n",
        "#                 # , 0.05\n",
        "#                 # , 0.1\n",
        "#                 # , 0.2\n",
        "#                 # , 0.25\n",
        "#                 ]\n",
        "# NUM_START_CNN_NEURONS = [32]\n",
        "# NUM_DENSE_NEURONS = [256]\n",
        "\n",
        "# EPOCHS = 20\n",
        "# BATCH_SIZE = 32\n",
        "# INITIAL_LEARNING_RATE = 0.001\n",
        "# FINAL_LEARNING_RATE = 0.00001\n",
        "# LEARNING_RATE_DECAY_FACTOR = (FINAL_LEARNING_RATE / INITIAL_LEARNING_RATE)**(1/EPOCHS)\n",
        "# STEPS_PER_EPOCH = len(test_ds) # this should actually be set to int(train_size/batch_size), but since the len(test_ds) returns the number of training records divided by the batch size already we just set it to that\n",
        "\n",
        "# # LR_SCHEDULE = 0.0001\n",
        "\n",
        "# training_results_df = pd.DataFrame(columns=['Activation', 'Initializer', 'Regularizer', 'Dropout', 'CNN_Start_Neurons', 'Dense_Neurons', 'Accuracy_Score'])\n",
        "\n",
        "# i=0\n",
        "# # with mlflow.start_run():\n",
        "#     # mlflow.sklearn.autolog()\n",
        "# for activation in ACTIVATIONS:\n",
        "#     for initializer in INITIALIZERS:\n",
        "#         for regularizer in KERNEL_REGULARIZERS:\n",
        "#             for dropout_rate in DROPOUT_RATE:\n",
        "#                 for num_start_cnn_neurons in NUM_START_CNN_NEURONS:\n",
        "#                     for num_dense_neurons in NUM_DENSE_NEURONS:\n",
        "#                         print(f'\\n\\n{i+1}. Training model with activation = {activation}, initializer = {initializer}, regulizer = {regularizer},  dropout_rate={dropout_rate}, num_start_cnn_neurons={num_start_cnn_neurons} and num_dense_neurons={num_dense_neurons}')\n",
        "#                         print(\"=\"*80)\n",
        "\n",
        "#                         model_base = create_base_model(activation, initializer, regularizer, dropout_rate, num_start_cnn_neurons, num_dense_neurons)\n",
        "\n",
        "#                         LR_SCHEDULE = tf.keras.optimizers.schedules.ExponentialDecay(\n",
        "#                             initial_learning_rate = INITIAL_LEARNING_RATE,\n",
        "#                             decay_steps = STEPS_PER_EPOCH,\n",
        "#                             decay_rate=LEARNING_RATE_DECAY_FACTOR,\n",
        "#                             staircase=True)\n",
        "\n",
        "#                         model_base.compile(optimizer=tf.keras.optimizers.Adam(learning_rate=LR_SCHEDULE),\n",
        "#                                       loss=\"sparse_categorical_crossentropy\",\n",
        "#                                       metrics=['accuracy'])\n",
        "\n",
        "#                         early_stopping_cb = tf.keras.callbacks.EarlyStopping(patience=5, monitor='val_loss', restore_best_weights=True)\n",
        "\n",
        "#                         history_base = model_base.fit(\n",
        "#                                         x=train_ds,\n",
        "#                                         batch_size=BATCH_SIZE,\n",
        "#                                         epochs=EPOCHS,\n",
        "#                                         verbose=\"auto\",\n",
        "#                                         callbacks=[early_stopping_cb],\n",
        "#                                         validation_data=val_ds\n",
        "#                                         # class_weight=None,\n",
        "#                                         # sample_weight=None,\n",
        "#                                         # initial_epoch=0,\n",
        "#                                         # steps_per_epoch=None,\n",
        "#                                         # validation_steps=None,\n",
        "#                                         # validation_batch_size=None,\n",
        "#                                         # validation_freq=1,\n",
        "#                                     )\n",
        "\n",
        "#                         plot_accuracy_loss(history_base)\n",
        "\n",
        "#                         y_true, y_pred = eval_model_on_test(model_base, test_ds)\n",
        "#                         score = (accuracy_score(y_true, y_pred)*100)\n",
        "#                         print(\"\\n\\nAccuracy of base model on test data: %.2f%%\" % score)\n",
        "#                         print(classification_report(y_true, y_pred)) #, target_names=CLASSES\n",
        "#                         pd.DataFrame(confusion_matrix(y_true, y_pred))\n",
        "\n",
        "#                         new_row = {'Activation' : activation, 'Initializer' : initializer, 'Regularizer': regularizer, 'Dropout' : dropout_rate, 'CNN_Start_Neurons' : num_start_cnn_neurons, 'Dense_Neurons' : num_dense_neurons, 'Accuracy_Score' : score}\n",
        "#                         training_results_df.loc[len(training_results_df)] = new_row\n",
        "#                         i += 1\n",
        "\n",
        "# print(\"=\"*80)\n",
        "# training_results_df"
      ]
    },
    {
      "cell_type": "code",
      "execution_count": 35,
      "metadata": {
        "id": "5fj-OgLNvRia"
      },
      "outputs": [],
      "source": [
        "# training_results_df"
      ]
    },
    {
      "cell_type": "code",
      "execution_count": 36,
      "metadata": {
        "id": "zTCCHwliJSv3"
      },
      "outputs": [],
      "source": [
        "# pd.DataFrame(confusion_matrix(y_true, y_pred))"
      ]
    },
    {
      "cell_type": "markdown",
      "source": [
        "# Save (and load) the model architecture and its weights"
      ],
      "metadata": {
        "id": "YNWy7eKsu_XY"
      }
    },
    {
      "cell_type": "markdown",
      "source": [
        "#### Save the model architecture and its weights"
      ],
      "metadata": {
        "id": "9FZearZtx92a"
      }
    },
    {
      "cell_type": "code",
      "source": [
        "# # save model weights and model architecture to a single file\n",
        "# model_base.save('model_cnn_base_waesche.h5')"
      ],
      "metadata": {
        "id": "RcHOf-ZUuTRf"
      },
      "execution_count": 37,
      "outputs": []
    },
    {
      "cell_type": "markdown",
      "source": [
        "#### load the model architecture and its weights"
      ],
      "metadata": {
        "id": "yLNlsRQyx5E0"
      }
    },
    {
      "cell_type": "code",
      "source": [
        "# # define dependency\n",
        "# from tensorflow.keras.models import load_model\n",
        "\n",
        "# # load model\n",
        "# model = load_model('model_cnn_base_waesche.h5')\n",
        "\n",
        "# # check model info\n",
        "# model.summary()\n",
        "\n",
        "# # evaluation on testset using the 'saved model: 'model_cnn_base_waesche.h5', called 'model' during loading it\n",
        "# y_true, y_pred = eval_model_on_test(model, test_ds)\n",
        "# score = (accuracy_score(y_true, y_pred)*100)\n",
        "# print(\"\\n\\nAccuracy of base model on test data: %.2f%%\" % score)\n",
        "# print(classification_report(y_true, y_pred)) #, target_names=CLASSES\n",
        "# pd.DataFrame(confusion_matrix(y_true, y_pred))"
      ],
      "metadata": {
        "id": "szgU2vwLx3wx"
      },
      "execution_count": 38,
      "outputs": []
    },
    {
      "cell_type": "code",
      "execution_count": 39,
      "metadata": {
        "id": "ZbhBFByuJpq5"
      },
      "outputs": [],
      "source": [
        "# def get_mismatches():\n",
        "#   num_mismatches = 0\n",
        "#   mismatch_tensor_indexes = {}\n",
        "#   for i in range(len(y_true)):\n",
        "#     if y_true[i] != y_pred[i]:\n",
        "#       num_mismatches += 1\n",
        "#       key = ((i+1)//BATCH_SIZE)\n",
        "#       tensor_index = (i % BATCH_SIZE)\n",
        "#       if mismatch_tensor_indexes.get(key) is not None:\n",
        "#         mismatch_tensor_indexes[key].append((tensor_index, i))\n",
        "#       else:\n",
        "#         mismatch_tensor_indexes[key] = [(tensor_index, i)]\n",
        "#   return num_mismatches, mismatch_tensor_indexes"
      ]
    },
    {
      "cell_type": "code",
      "execution_count": 40,
      "metadata": {
        "id": "0lk9z2-Qf9-e"
      },
      "outputs": [],
      "source": [
        "# num_mismatches, mismatch_tensor_indexes = get_mismatches()\n",
        "# print(f\"Number of mismatches = {num_mismatches}\")\n",
        "# mismatch_tensor_indexes"
      ]
    },
    {
      "cell_type": "code",
      "execution_count": 41,
      "metadata": {
        "id": "ygITk_7b0ImT"
      },
      "outputs": [],
      "source": [
        "# print(f'Test data image count = {len(y_true)}\\n') # Returned from eval_model_on_test(model_base, test_ds) function\n",
        "\n",
        "# i=0\n",
        "# for images, labels in train_ds.take(8):\n",
        "#   print(i, len(labels))\n",
        "#   print(labels)\n",
        "#   i += 1\n",
        "\n",
        "# # With 247 images in test and batch size of 32, the last tensor labels should only have 23 labels (i.e. 7*32 + 23 = 247)\n",
        "# # Why do we have 32 labels in the last Tensor??? That would mean we have 8*32 = 256 images which is not the case!!!"
      ]
    },
    {
      "cell_type": "code",
      "execution_count": 42,
      "metadata": {
        "id": "XDspDoMqy0d9"
      },
      "outputs": [],
      "source": [
        "# import math\n",
        "# i=0\n",
        "# total_tensor_batches = math.ceil(len(y_pred)/BATCH_SIZE)\n",
        "# tensor_batch = 0\n",
        "# plt.figure(figsize=(15, 20))\n",
        "# for images, labels in train_ds.take(total_tensor_batches):\n",
        "#   if mismatch_tensor_indexes.get(tensor_batch) is not None:\n",
        "#     for tensor_batch_mismatches in mismatch_tensor_indexes.get(tensor_batch):\n",
        "#       ax = plt.subplot(math.ceil(num_mismatches/4), 4, i + 1)\n",
        "#       plt.imshow(images[tensor_batch_mismatches[0]].numpy().astype(\"uint8\"))\n",
        "#       plt.title(f\"Label={labels[tensor_batch_mismatches[0]]}, Pred={y_pred[tensor_batch_mismatches[1]]}\")\n",
        "#       plt.axis(\"off\")\n",
        "#       i += 1\n",
        "#   tensor_batch += 1"
      ]
    },
    {
      "cell_type": "code",
      "execution_count": 43,
      "metadata": {
        "id": "7m1D5aiB21eS"
      },
      "outputs": [],
      "source": [
        "# import math\n",
        "# i=0\n",
        "# total_tensor_batches = math.ceil(len(y_pred)/BATCH_SIZE)\n",
        "# plt.figure(figsize=(15, 200))\n",
        "# for images, labels in train_ds.take(total_tensor_batches):\n",
        "#   for j in range(len(labels)):\n",
        "#     print(f'{i}, {j}')\n",
        "#     ax = plt.subplot(math.ceil(len(y_pred)/5), 5, i + 1)\n",
        "#     plt.imshow(images[j].numpy().astype(\"uint8\"))\n",
        "#     plt.title(f\"Label={labels[j]}, Pred={y_pred[i]}\")\n",
        "#     plt.axis(\"off\")\n",
        "#     i += 1"
      ]
    },
    {
      "cell_type": "code",
      "execution_count": 44,
      "metadata": {
        "id": "_aovzF1Jt4sV"
      },
      "outputs": [],
      "source": [
        "# # These are the missmatches on the test data predictions from Tschimegma's fine tuned RestNet50 model\n",
        "# print(f'Key = {157//32}, tensor_index={156%32}')\n",
        "# print(f'Key = {161//32}, tensor_index={160%32}')\n",
        "# print(f'Key = {242//32}, tensor_index={241%32}')\n",
        "# # print(f'Key = {33//32}, tensor_index={32%32}')\n",
        "# # print(f'Key = {1//32}, tensor_index={0%32}')"
      ]
    },
    {
      "cell_type": "code",
      "execution_count": 45,
      "metadata": {
        "id": "8OBYHZ0qXWFR"
      },
      "outputs": [],
      "source": [
        "# mismatch_tensor_indexes = {4: [(28, 156)],\n",
        "#                            5: [(0,160)],\n",
        "#                            7: [(17,240)]}\n",
        "# num_mismatches = 3\n",
        "# tensor_batch = 0\n",
        "# # plt.figure(figsize=(10, 10))\n",
        "# i=0\n",
        "# for images, labels in train_ds.take(total_tensor_batches):\n",
        "#   if mismatch_tensor_indexes.get(tensor_batch) is not None:\n",
        "#     for tensor_batch_mismatches in mismatch_tensor_indexes.get(tensor_batch):\n",
        "#       ax = plt.subplot(math.ceil(num_mismatches/3), 3, i + 1)\n",
        "#       plt.imshow(images[tensor_batch_mismatches[0]].numpy().astype(\"uint8\"))\n",
        "#       plt.title(f\"Label={labels[tensor_batch_mismatches[0]]}\")\n",
        "#       # plt.title(f\"Label={y_true[tensor_batch_mismatches[1]]}, Pred={y_pred[tensor_batch_mismatches[1]]}\")\n",
        "#       plt.axis(\"off\")\n",
        "#       i += 1\n",
        "#   tensor_batch += 1"
      ]
    },
    {
      "cell_type": "code",
      "execution_count": 46,
      "metadata": {
        "id": "3AXfc9a38yXE"
      },
      "outputs": [],
      "source": [
        "# model_base.summary()"
      ]
    },
    {
      "cell_type": "markdown",
      "source": [
        "# Transfer learning - ResNet50- w/o fine-tune"
      ],
      "metadata": {
        "id": "IllIRo_bc3HV"
      }
    },
    {
      "cell_type": "code",
      "source": [
        "# IMG_SHAPE = (427, 350, 3)\n",
        "# model_resnet_base = tf.keras.applications.resnet50.ResNet50(\n",
        "#                                                             include_top=False, # whether to include the fully-connected layer at the top of the network. Default is set to True.\n",
        "#                                                             weights='imagenet',\n",
        "#                                                             # input_tensor=None,\n",
        "#                                                             input_shape=IMG_SHAPE,\n",
        "#                                                             # pooling=None,\n",
        "#                                                             # classes=1000,\n",
        "#                                                             # **kwargs\n",
        "#                                                             )"
      ],
      "metadata": {
        "id": "4TUQEOWhdZF-"
      },
      "execution_count": 47,
      "outputs": []
    },
    {
      "cell_type": "code",
      "source": [
        "# for layer in model_resnet_base.layers[-5:]:\n",
        "#   print(layer.name)"
      ],
      "metadata": {
        "id": "7F3zCoMbenq4"
      },
      "execution_count": 48,
      "outputs": []
    },
    {
      "cell_type": "code",
      "source": [
        "# # SHARED PARAMETER\n",
        "# # Number of classes\n",
        "# num_classes = 5"
      ],
      "metadata": {
        "id": "JBwrVQXoerLK"
      },
      "execution_count": 49,
      "outputs": []
    },
    {
      "cell_type": "code",
      "source": [
        "# # Sequential model creation:\n",
        "\n",
        "# # Make the base resnet model\n",
        "# # Points to last layer\n",
        "# last_conv_layer = model_resnet_base.get_layer('conv5_block3_out')\n",
        "# # Convolutional part from the resnet model\n",
        "# conv_model = Model(inputs=model_resnet_base.input, outputs=last_conv_layer.output)\n",
        "# # Freeze all conv layers\n",
        "# conv_model.trainable = False"
      ],
      "metadata": {
        "id": "P1zo60qYetUK"
      },
      "execution_count": 50,
      "outputs": []
    },
    {
      "cell_type": "code",
      "source": [
        "# # Start a new Keras Sequential model\n",
        "# model_resnet = Sequential()\n",
        "\n",
        "# # Add a Lambda layer to apply preprocess_input of resnet model\n",
        "# model_resnet.add(layers.Lambda(tf.keras.applications.resnet.preprocess_input, input_shape=IMG_SHAPE))\n",
        "\n",
        "# # Add the convolutional part of the model from above\n",
        "# model_resnet.add(conv_model)\n",
        "\n",
        "# # The resnet model uses a global average pooling layer before the final dense layer\n",
        "# # other models may just flatten the final convolutional layer or\n",
        "# # use other pooling layers so make sure to check the original model architecture\n",
        "# model_resnet.add(tf.keras.layers.GlobalAveragePooling2D())\n",
        "\n",
        "# # TODO try additional dense layer with 256 nodes\n",
        "# # TODO try dropout with 0.2 rate\n",
        "\n",
        "# # Add a final dense (aka. fully-connected) layer\n",
        "# # This is for combining features recognized in the image and calculating predictions\n",
        "# # note that the number of nodes is the same as the number of classes\n",
        "# model_resnet.add(tf.keras.layers.Dense(num_classes, activation='softmax'))"
      ],
      "metadata": {
        "id": "4hZigO0ie-86"
      },
      "execution_count": 51,
      "outputs": []
    },
    {
      "cell_type": "code",
      "source": [
        "# model_resnet.summary()"
      ],
      "metadata": {
        "id": "OrhD53_GfA4_"
      },
      "execution_count": 52,
      "outputs": []
    },
    {
      "cell_type": "code",
      "source": [
        "# for layer in model_resnet_base.layers:\n",
        "#     print(layer.name, '->', layer.trainable)"
      ],
      "metadata": {
        "id": "T_Ra1BXzfD2C"
      },
      "execution_count": 53,
      "outputs": []
    },
    {
      "cell_type": "code",
      "source": [
        "# # SHARED PARAMETERS\n",
        "# # Optimizer, learning rate, loss and metrics\n",
        "# learning_rate = 1e-5\n",
        "# optimizer = Adam(learning_rate=learning_rate) # TODO try SGD with Momentum and dynamic learning rate\n",
        "# loss = 'sparse_categorical_crossentropy'\n",
        "# metrics_monitor = ['accuracy']\n",
        "\n",
        "# # EarlyStopping callback\n",
        "# early_stopping_cb = keras.callbacks.EarlyStopping(patience=10, monitor=\"val_loss\", restore_best_weights=True)\n",
        "\n",
        "# # Default number of epochs\n",
        "# epochs = 40"
      ],
      "metadata": {
        "id": "9CFBygFTfJ-4"
      },
      "execution_count": 54,
      "outputs": []
    },
    {
      "cell_type": "code",
      "source": [
        "# model_resnet.compile(optimizer=optimizer, loss=loss, metrics=metrics_monitor)\n",
        "\n",
        "# history_resnet = model_resnet.fit(train_ds,\n",
        "#                         epochs=epochs,\n",
        "#                         validation_data=val_ds,\n",
        "#                         callbacks = [early_stopping_cb]\n",
        "#                         )"
      ],
      "metadata": {
        "id": "MS6LXMPYfPi5"
      },
      "execution_count": 55,
      "outputs": []
    },
    {
      "cell_type": "code",
      "source": [
        "# plot_accuracy_loss(history_resnet)"
      ],
      "metadata": {
        "id": "UWwlmmEhfbC-"
      },
      "execution_count": 56,
      "outputs": []
    },
    {
      "cell_type": "code",
      "source": [
        "# y_true, y_pred = eval_model_on_test(model_resnet, test_ds)\n",
        "\n",
        "# print(\"Accuracy of base model on test data: %.2f%%\" % (accuracy_score(y_true, y_pred)*100))\n",
        "# print(classification_report(y_true, y_pred, target_names=CLASSES))\n",
        "# pd.DataFrame(confusion_matrix(y_true, y_pred))"
      ],
      "metadata": {
        "id": "uCazqkZ2fdsr"
      },
      "execution_count": 57,
      "outputs": []
    },
    {
      "cell_type": "code",
      "source": [
        "# # save model weights and model architecture to a single file\n",
        "# model_resnet.save('model_resnet_base_waesche.h5')"
      ],
      "metadata": {
        "id": "apsH2q6Chlfm"
      },
      "execution_count": 58,
      "outputs": []
    },
    {
      "cell_type": "markdown",
      "source": [
        "# ResNet Fine-Tuning: Unlocking layers for training"
      ],
      "metadata": {
        "id": "Qo7B0LzOvhWq"
      }
    },
    {
      "cell_type": "code",
      "source": [
        "# # if use sequential model creation:\n",
        "# conv_model.trainable = True\n",
        "# for layer in conv_model.layers:\n",
        "# # if use functional model creation:\n",
        "# #model_resnet_base.trainable = True\n",
        "# #for layer in model_resnet_base.layers:\n",
        "#     if('conv5' not in layer.name):\n",
        "#         layer.trainable = False\n",
        "#     if('bn' in layer.name):\n",
        "#         layer.trainable = False\n",
        "#     print(layer.name, layer.trainable)"
      ],
      "metadata": {
        "id": "dzuJuDQfvkck"
      },
      "execution_count": 59,
      "outputs": []
    },
    {
      "cell_type": "code",
      "source": [
        "# model_resnet_ft = Sequential()\n",
        "# model_resnet_ft.add(layers.Lambda(tf.keras.applications.resnet.preprocess_input, input_shape=IMG_SHAPE))\n",
        "# model_resnet_ft.add(conv_model)\n",
        "# model_resnet_ft.add(tf.keras.layers.GlobalAveragePooling2D())\n",
        "# # TODO try additional dense layer with 256 nodes\n",
        "# # TODO try dropout with 0.2 rate\n",
        "# model_resnet_ft.add(tf.keras.layers.Dense(num_classes, activation='softmax'))\n",
        "\n",
        "# model_resnet_ft.summary()"
      ],
      "metadata": {
        "id": "taZ0eQ4HwZHU"
      },
      "execution_count": 60,
      "outputs": []
    },
    {
      "cell_type": "code",
      "source": [
        "#model_resnet_ft.compile(optimizer=optimizer, loss=loss, metrics=metrics_monitor)\n",
        "\n",
        "# If the following error occurs when calling the fit() method, run these lines of code instead:\n",
        "#KeyError: 'The optimizer cannot recognize variable conv5_block1_1_conv/kernel:0. This usually means you are trying to call the optimizer to update different parts of the model separately.\n",
        "#Please call `optimizer.build(variables)` with the full list of trainable variables before the training loop or use legacy optimizer `tf.keras.optimizers.legacy.Adam.'\n",
        "# Get the list of trainable variables\n",
        "#trainable_vars = model_resnet_ft.trainable_variables\n",
        "\n",
        "# Manually build the optimizer with the list of trainable variables\n",
        "#model_resnet_ft.optimizer.build(trainable_vars)\n",
        "\n",
        "# # If it doesn't help:\n",
        "# from tensorflow.keras.optimizers.legacy import Adam as Adam_l\n",
        "# optimizer = Adam_l(learning_rate=learning_rate)\n",
        "# model_resnet_ft.compile(optimizer=optimizer, loss=loss, metrics=metrics_monitor)"
      ],
      "metadata": {
        "id": "qO4XJ3r-wpm1"
      },
      "execution_count": 61,
      "outputs": []
    },
    {
      "cell_type": "code",
      "source": [
        "# history_resnet_ft = model_resnet_ft.fit(train_ds,\n",
        "#                         epochs=epochs,\n",
        "#                         validation_data=val_ds,\n",
        "#                         callbacks = [early_stopping_cb]\n",
        "#                         )"
      ],
      "metadata": {
        "id": "c8TapD1jwsHH"
      },
      "execution_count": 62,
      "outputs": []
    },
    {
      "cell_type": "code",
      "source": [
        "# plot_accuracy_loss(history_resnet_ft)"
      ],
      "metadata": {
        "id": "3qsWtG0Hwuay"
      },
      "execution_count": 63,
      "outputs": []
    },
    {
      "cell_type": "code",
      "source": [
        "# y_true, y_pred = eval_model_on_test(model_resnet_ft, test_ds)\n",
        "\n",
        "# print(\"Accuracy of base model on test data: %.2f%%\" % (accuracy_score(y_true, y_pred)*100))\n",
        "# print(classification_report(y_true, y_pred, target_names=CLASSES))\n",
        "# pd.DataFrame(confusion_matrix(y_true, y_pred))"
      ],
      "metadata": {
        "id": "L5oCIKcSw1oO"
      },
      "execution_count": 64,
      "outputs": []
    },
    {
      "cell_type": "code",
      "source": [
        "# # save model weights and model architecture to a single file\n",
        "# model_resnet_ft.save('model_resnet_finetuned_waesch_92%.h5')"
      ],
      "metadata": {
        "id": "7FU4J9DL0ptH"
      },
      "execution_count": 65,
      "outputs": []
    },
    {
      "cell_type": "code",
      "source": [
        "# from google.colab import drive\n",
        "# drive.mount('/content/drive')"
      ],
      "metadata": {
        "id": "eqSZtAB21JLJ"
      },
      "execution_count": 66,
      "outputs": []
    },
    {
      "cell_type": "code",
      "source": [
        "learning_rate = 1e-5\n",
        "optimizer = Adam(learning_rate=learning_rate) # TODO try SGD with Momentum and dynamic learning rate\n",
        "loss = 'sparse_categorical_crossentropy'\n",
        "metrics_monitor = ['accuracy']\n",
        "\n",
        "# EarlyStopping callback\n",
        "early_stopping_cb = keras.callbacks.EarlyStopping(patience=10, monitor=\"val_loss\", restore_best_weights=True)\n",
        "\n",
        "# Default number of epochs\n",
        "epochs = 40"
      ],
      "metadata": {
        "id": "LgcsuQGed0Pb"
      },
      "execution_count": 71,
      "outputs": []
    },
    {
      "cell_type": "code",
      "source": [
        "from tensorflow.keras.layers import GlobalAveragePooling2D, Dense\n",
        "\n",
        "# Load the ResNet50 model without the top dense layers\n",
        "base_model = tf.keras.applications.ResNet50(input_shape=IMG_SHAPE,\n",
        "                                            include_top=False,\n",
        "                                            weights='imagenet')\n",
        "\n",
        "# Fine-Tune (set trainable to True) ONLY the last convolutional block (conv5) of the ResNet\n",
        "for layer in base_model.layers:\n",
        "    if('conv5' not in layer.name):\n",
        "        layer.trainable = False\n",
        "    if('bn' in layer.name): # Batch-Normalization layers 'could' also be set to True\n",
        "        layer.trainable = False\n",
        "    print(layer.name, layer.trainable)\n",
        "\n",
        "# Access the output of the last convolutional layer\n",
        "last_conv_layer_output = base_model.get_layer('conv5_block3_out').output\n",
        "\n",
        "# Global average pooling layer\n",
        "gap_layer = GlobalAveragePooling2D()(last_conv_layer_output)\n",
        "\n",
        "# Custom classification layers\n",
        "dense_layer_1 = Dense(256, activation='relu')(gap_layer) # Extra layer-in comparison to the previous ResNetModel\n",
        "output_layer = Dense(len(CLASSES), activation='softmax')(dense_layer_1)\n",
        "\n",
        "# Create a model with both convolutional and classification layers\n",
        "model = Model(inputs=base_model.input, outputs=output_layer)\n",
        "\n",
        "# Compile the model\n",
        "model.compile(optimizer=optimizer, loss=loss, metrics=['accuracy'])\n",
        "\n",
        "# Summary of the model\n",
        "model.summary()"
      ],
      "metadata": {
        "colab": {
          "base_uri": "https://localhost:8080/"
        },
        "id": "gPc9UFYHdPDt",
        "outputId": "fad27949-2a96-4cbd-92b8-4e2b719a05fb"
      },
      "execution_count": 72,
      "outputs": [
        {
          "output_type": "stream",
          "name": "stdout",
          "text": [
            "input_2 False\n",
            "conv1_pad False\n",
            "conv1_conv False\n",
            "conv1_bn False\n",
            "conv1_relu False\n",
            "pool1_pad False\n",
            "pool1_pool False\n",
            "conv2_block1_1_conv False\n",
            "conv2_block1_1_bn False\n",
            "conv2_block1_1_relu False\n",
            "conv2_block1_2_conv False\n",
            "conv2_block1_2_bn False\n",
            "conv2_block1_2_relu False\n",
            "conv2_block1_0_conv False\n",
            "conv2_block1_3_conv False\n",
            "conv2_block1_0_bn False\n",
            "conv2_block1_3_bn False\n",
            "conv2_block1_add False\n",
            "conv2_block1_out False\n",
            "conv2_block2_1_conv False\n",
            "conv2_block2_1_bn False\n",
            "conv2_block2_1_relu False\n",
            "conv2_block2_2_conv False\n",
            "conv2_block2_2_bn False\n",
            "conv2_block2_2_relu False\n",
            "conv2_block2_3_conv False\n",
            "conv2_block2_3_bn False\n",
            "conv2_block2_add False\n",
            "conv2_block2_out False\n",
            "conv2_block3_1_conv False\n",
            "conv2_block3_1_bn False\n",
            "conv2_block3_1_relu False\n",
            "conv2_block3_2_conv False\n",
            "conv2_block3_2_bn False\n",
            "conv2_block3_2_relu False\n",
            "conv2_block3_3_conv False\n",
            "conv2_block3_3_bn False\n",
            "conv2_block3_add False\n",
            "conv2_block3_out False\n",
            "conv3_block1_1_conv False\n",
            "conv3_block1_1_bn False\n",
            "conv3_block1_1_relu False\n",
            "conv3_block1_2_conv False\n",
            "conv3_block1_2_bn False\n",
            "conv3_block1_2_relu False\n",
            "conv3_block1_0_conv False\n",
            "conv3_block1_3_conv False\n",
            "conv3_block1_0_bn False\n",
            "conv3_block1_3_bn False\n",
            "conv3_block1_add False\n",
            "conv3_block1_out False\n",
            "conv3_block2_1_conv False\n",
            "conv3_block2_1_bn False\n",
            "conv3_block2_1_relu False\n",
            "conv3_block2_2_conv False\n",
            "conv3_block2_2_bn False\n",
            "conv3_block2_2_relu False\n",
            "conv3_block2_3_conv False\n",
            "conv3_block2_3_bn False\n",
            "conv3_block2_add False\n",
            "conv3_block2_out False\n",
            "conv3_block3_1_conv False\n",
            "conv3_block3_1_bn False\n",
            "conv3_block3_1_relu False\n",
            "conv3_block3_2_conv False\n",
            "conv3_block3_2_bn False\n",
            "conv3_block3_2_relu False\n",
            "conv3_block3_3_conv False\n",
            "conv3_block3_3_bn False\n",
            "conv3_block3_add False\n",
            "conv3_block3_out False\n",
            "conv3_block4_1_conv False\n",
            "conv3_block4_1_bn False\n",
            "conv3_block4_1_relu False\n",
            "conv3_block4_2_conv False\n",
            "conv3_block4_2_bn False\n",
            "conv3_block4_2_relu False\n",
            "conv3_block4_3_conv False\n",
            "conv3_block4_3_bn False\n",
            "conv3_block4_add False\n",
            "conv3_block4_out False\n",
            "conv4_block1_1_conv False\n",
            "conv4_block1_1_bn False\n",
            "conv4_block1_1_relu False\n",
            "conv4_block1_2_conv False\n",
            "conv4_block1_2_bn False\n",
            "conv4_block1_2_relu False\n",
            "conv4_block1_0_conv False\n",
            "conv4_block1_3_conv False\n",
            "conv4_block1_0_bn False\n",
            "conv4_block1_3_bn False\n",
            "conv4_block1_add False\n",
            "conv4_block1_out False\n",
            "conv4_block2_1_conv False\n",
            "conv4_block2_1_bn False\n",
            "conv4_block2_1_relu False\n",
            "conv4_block2_2_conv False\n",
            "conv4_block2_2_bn False\n",
            "conv4_block2_2_relu False\n",
            "conv4_block2_3_conv False\n",
            "conv4_block2_3_bn False\n",
            "conv4_block2_add False\n",
            "conv4_block2_out False\n",
            "conv4_block3_1_conv False\n",
            "conv4_block3_1_bn False\n",
            "conv4_block3_1_relu False\n",
            "conv4_block3_2_conv False\n",
            "conv4_block3_2_bn False\n",
            "conv4_block3_2_relu False\n",
            "conv4_block3_3_conv False\n",
            "conv4_block3_3_bn False\n",
            "conv4_block3_add False\n",
            "conv4_block3_out False\n",
            "conv4_block4_1_conv False\n",
            "conv4_block4_1_bn False\n",
            "conv4_block4_1_relu False\n",
            "conv4_block4_2_conv False\n",
            "conv4_block4_2_bn False\n",
            "conv4_block4_2_relu False\n",
            "conv4_block4_3_conv False\n",
            "conv4_block4_3_bn False\n",
            "conv4_block4_add False\n",
            "conv4_block4_out False\n",
            "conv4_block5_1_conv False\n",
            "conv4_block5_1_bn False\n",
            "conv4_block5_1_relu False\n",
            "conv4_block5_2_conv False\n",
            "conv4_block5_2_bn False\n",
            "conv4_block5_2_relu False\n",
            "conv4_block5_3_conv False\n",
            "conv4_block5_3_bn False\n",
            "conv4_block5_add False\n",
            "conv4_block5_out False\n",
            "conv4_block6_1_conv False\n",
            "conv4_block6_1_bn False\n",
            "conv4_block6_1_relu False\n",
            "conv4_block6_2_conv False\n",
            "conv4_block6_2_bn False\n",
            "conv4_block6_2_relu False\n",
            "conv4_block6_3_conv False\n",
            "conv4_block6_3_bn False\n",
            "conv4_block6_add False\n",
            "conv4_block6_out False\n",
            "conv5_block1_1_conv True\n",
            "conv5_block1_1_bn False\n",
            "conv5_block1_1_relu True\n",
            "conv5_block1_2_conv True\n",
            "conv5_block1_2_bn False\n",
            "conv5_block1_2_relu True\n",
            "conv5_block1_0_conv True\n",
            "conv5_block1_3_conv True\n",
            "conv5_block1_0_bn False\n",
            "conv5_block1_3_bn False\n",
            "conv5_block1_add True\n",
            "conv5_block1_out True\n",
            "conv5_block2_1_conv True\n",
            "conv5_block2_1_bn False\n",
            "conv5_block2_1_relu True\n",
            "conv5_block2_2_conv True\n",
            "conv5_block2_2_bn False\n",
            "conv5_block2_2_relu True\n",
            "conv5_block2_3_conv True\n",
            "conv5_block2_3_bn False\n",
            "conv5_block2_add True\n",
            "conv5_block2_out True\n",
            "conv5_block3_1_conv True\n",
            "conv5_block3_1_bn False\n",
            "conv5_block3_1_relu True\n",
            "conv5_block3_2_conv True\n",
            "conv5_block3_2_bn False\n",
            "conv5_block3_2_relu True\n",
            "conv5_block3_3_conv True\n",
            "conv5_block3_3_bn False\n",
            "conv5_block3_add True\n",
            "conv5_block3_out True\n",
            "Model: \"model_1\"\n",
            "__________________________________________________________________________________________________\n",
            " Layer (type)                Output Shape                 Param #   Connected to                  \n",
            "==================================================================================================\n",
            " input_2 (InputLayer)        [(None, 427, 350, 3)]        0         []                            \n",
            "                                                                                                  \n",
            " conv1_pad (ZeroPadding2D)   (None, 433, 356, 3)          0         ['input_2[0][0]']             \n",
            "                                                                                                  \n",
            " conv1_conv (Conv2D)         (None, 214, 175, 64)         9472      ['conv1_pad[0][0]']           \n",
            "                                                                                                  \n",
            " conv1_bn (BatchNormalizati  (None, 214, 175, 64)         256       ['conv1_conv[0][0]']          \n",
            " on)                                                                                              \n",
            "                                                                                                  \n",
            " conv1_relu (Activation)     (None, 214, 175, 64)         0         ['conv1_bn[0][0]']            \n",
            "                                                                                                  \n",
            " pool1_pad (ZeroPadding2D)   (None, 216, 177, 64)         0         ['conv1_relu[0][0]']          \n",
            "                                                                                                  \n",
            " pool1_pool (MaxPooling2D)   (None, 107, 88, 64)          0         ['pool1_pad[0][0]']           \n",
            "                                                                                                  \n",
            " conv2_block1_1_conv (Conv2  (None, 107, 88, 64)          4160      ['pool1_pool[0][0]']          \n",
            " D)                                                                                               \n",
            "                                                                                                  \n",
            " conv2_block1_1_bn (BatchNo  (None, 107, 88, 64)          256       ['conv2_block1_1_conv[0][0]'] \n",
            " rmalization)                                                                                     \n",
            "                                                                                                  \n",
            " conv2_block1_1_relu (Activ  (None, 107, 88, 64)          0         ['conv2_block1_1_bn[0][0]']   \n",
            " ation)                                                                                           \n",
            "                                                                                                  \n",
            " conv2_block1_2_conv (Conv2  (None, 107, 88, 64)          36928     ['conv2_block1_1_relu[0][0]'] \n",
            " D)                                                                                               \n",
            "                                                                                                  \n",
            " conv2_block1_2_bn (BatchNo  (None, 107, 88, 64)          256       ['conv2_block1_2_conv[0][0]'] \n",
            " rmalization)                                                                                     \n",
            "                                                                                                  \n",
            " conv2_block1_2_relu (Activ  (None, 107, 88, 64)          0         ['conv2_block1_2_bn[0][0]']   \n",
            " ation)                                                                                           \n",
            "                                                                                                  \n",
            " conv2_block1_0_conv (Conv2  (None, 107, 88, 256)         16640     ['pool1_pool[0][0]']          \n",
            " D)                                                                                               \n",
            "                                                                                                  \n",
            " conv2_block1_3_conv (Conv2  (None, 107, 88, 256)         16640     ['conv2_block1_2_relu[0][0]'] \n",
            " D)                                                                                               \n",
            "                                                                                                  \n",
            " conv2_block1_0_bn (BatchNo  (None, 107, 88, 256)         1024      ['conv2_block1_0_conv[0][0]'] \n",
            " rmalization)                                                                                     \n",
            "                                                                                                  \n",
            " conv2_block1_3_bn (BatchNo  (None, 107, 88, 256)         1024      ['conv2_block1_3_conv[0][0]'] \n",
            " rmalization)                                                                                     \n",
            "                                                                                                  \n",
            " conv2_block1_add (Add)      (None, 107, 88, 256)         0         ['conv2_block1_0_bn[0][0]',   \n",
            "                                                                     'conv2_block1_3_bn[0][0]']   \n",
            "                                                                                                  \n",
            " conv2_block1_out (Activati  (None, 107, 88, 256)         0         ['conv2_block1_add[0][0]']    \n",
            " on)                                                                                              \n",
            "                                                                                                  \n",
            " conv2_block2_1_conv (Conv2  (None, 107, 88, 64)          16448     ['conv2_block1_out[0][0]']    \n",
            " D)                                                                                               \n",
            "                                                                                                  \n",
            " conv2_block2_1_bn (BatchNo  (None, 107, 88, 64)          256       ['conv2_block2_1_conv[0][0]'] \n",
            " rmalization)                                                                                     \n",
            "                                                                                                  \n",
            " conv2_block2_1_relu (Activ  (None, 107, 88, 64)          0         ['conv2_block2_1_bn[0][0]']   \n",
            " ation)                                                                                           \n",
            "                                                                                                  \n",
            " conv2_block2_2_conv (Conv2  (None, 107, 88, 64)          36928     ['conv2_block2_1_relu[0][0]'] \n",
            " D)                                                                                               \n",
            "                                                                                                  \n",
            " conv2_block2_2_bn (BatchNo  (None, 107, 88, 64)          256       ['conv2_block2_2_conv[0][0]'] \n",
            " rmalization)                                                                                     \n",
            "                                                                                                  \n",
            " conv2_block2_2_relu (Activ  (None, 107, 88, 64)          0         ['conv2_block2_2_bn[0][0]']   \n",
            " ation)                                                                                           \n",
            "                                                                                                  \n",
            " conv2_block2_3_conv (Conv2  (None, 107, 88, 256)         16640     ['conv2_block2_2_relu[0][0]'] \n",
            " D)                                                                                               \n",
            "                                                                                                  \n",
            " conv2_block2_3_bn (BatchNo  (None, 107, 88, 256)         1024      ['conv2_block2_3_conv[0][0]'] \n",
            " rmalization)                                                                                     \n",
            "                                                                                                  \n",
            " conv2_block2_add (Add)      (None, 107, 88, 256)         0         ['conv2_block1_out[0][0]',    \n",
            "                                                                     'conv2_block2_3_bn[0][0]']   \n",
            "                                                                                                  \n",
            " conv2_block2_out (Activati  (None, 107, 88, 256)         0         ['conv2_block2_add[0][0]']    \n",
            " on)                                                                                              \n",
            "                                                                                                  \n",
            " conv2_block3_1_conv (Conv2  (None, 107, 88, 64)          16448     ['conv2_block2_out[0][0]']    \n",
            " D)                                                                                               \n",
            "                                                                                                  \n",
            " conv2_block3_1_bn (BatchNo  (None, 107, 88, 64)          256       ['conv2_block3_1_conv[0][0]'] \n",
            " rmalization)                                                                                     \n",
            "                                                                                                  \n",
            " conv2_block3_1_relu (Activ  (None, 107, 88, 64)          0         ['conv2_block3_1_bn[0][0]']   \n",
            " ation)                                                                                           \n",
            "                                                                                                  \n",
            " conv2_block3_2_conv (Conv2  (None, 107, 88, 64)          36928     ['conv2_block3_1_relu[0][0]'] \n",
            " D)                                                                                               \n",
            "                                                                                                  \n",
            " conv2_block3_2_bn (BatchNo  (None, 107, 88, 64)          256       ['conv2_block3_2_conv[0][0]'] \n",
            " rmalization)                                                                                     \n",
            "                                                                                                  \n",
            " conv2_block3_2_relu (Activ  (None, 107, 88, 64)          0         ['conv2_block3_2_bn[0][0]']   \n",
            " ation)                                                                                           \n",
            "                                                                                                  \n",
            " conv2_block3_3_conv (Conv2  (None, 107, 88, 256)         16640     ['conv2_block3_2_relu[0][0]'] \n",
            " D)                                                                                               \n",
            "                                                                                                  \n",
            " conv2_block3_3_bn (BatchNo  (None, 107, 88, 256)         1024      ['conv2_block3_3_conv[0][0]'] \n",
            " rmalization)                                                                                     \n",
            "                                                                                                  \n",
            " conv2_block3_add (Add)      (None, 107, 88, 256)         0         ['conv2_block2_out[0][0]',    \n",
            "                                                                     'conv2_block3_3_bn[0][0]']   \n",
            "                                                                                                  \n",
            " conv2_block3_out (Activati  (None, 107, 88, 256)         0         ['conv2_block3_add[0][0]']    \n",
            " on)                                                                                              \n",
            "                                                                                                  \n",
            " conv3_block1_1_conv (Conv2  (None, 54, 44, 128)          32896     ['conv2_block3_out[0][0]']    \n",
            " D)                                                                                               \n",
            "                                                                                                  \n",
            " conv3_block1_1_bn (BatchNo  (None, 54, 44, 128)          512       ['conv3_block1_1_conv[0][0]'] \n",
            " rmalization)                                                                                     \n",
            "                                                                                                  \n",
            " conv3_block1_1_relu (Activ  (None, 54, 44, 128)          0         ['conv3_block1_1_bn[0][0]']   \n",
            " ation)                                                                                           \n",
            "                                                                                                  \n",
            " conv3_block1_2_conv (Conv2  (None, 54, 44, 128)          147584    ['conv3_block1_1_relu[0][0]'] \n",
            " D)                                                                                               \n",
            "                                                                                                  \n",
            " conv3_block1_2_bn (BatchNo  (None, 54, 44, 128)          512       ['conv3_block1_2_conv[0][0]'] \n",
            " rmalization)                                                                                     \n",
            "                                                                                                  \n",
            " conv3_block1_2_relu (Activ  (None, 54, 44, 128)          0         ['conv3_block1_2_bn[0][0]']   \n",
            " ation)                                                                                           \n",
            "                                                                                                  \n",
            " conv3_block1_0_conv (Conv2  (None, 54, 44, 512)          131584    ['conv2_block3_out[0][0]']    \n",
            " D)                                                                                               \n",
            "                                                                                                  \n",
            " conv3_block1_3_conv (Conv2  (None, 54, 44, 512)          66048     ['conv3_block1_2_relu[0][0]'] \n",
            " D)                                                                                               \n",
            "                                                                                                  \n",
            " conv3_block1_0_bn (BatchNo  (None, 54, 44, 512)          2048      ['conv3_block1_0_conv[0][0]'] \n",
            " rmalization)                                                                                     \n",
            "                                                                                                  \n",
            " conv3_block1_3_bn (BatchNo  (None, 54, 44, 512)          2048      ['conv3_block1_3_conv[0][0]'] \n",
            " rmalization)                                                                                     \n",
            "                                                                                                  \n",
            " conv3_block1_add (Add)      (None, 54, 44, 512)          0         ['conv3_block1_0_bn[0][0]',   \n",
            "                                                                     'conv3_block1_3_bn[0][0]']   \n",
            "                                                                                                  \n",
            " conv3_block1_out (Activati  (None, 54, 44, 512)          0         ['conv3_block1_add[0][0]']    \n",
            " on)                                                                                              \n",
            "                                                                                                  \n",
            " conv3_block2_1_conv (Conv2  (None, 54, 44, 128)          65664     ['conv3_block1_out[0][0]']    \n",
            " D)                                                                                               \n",
            "                                                                                                  \n",
            " conv3_block2_1_bn (BatchNo  (None, 54, 44, 128)          512       ['conv3_block2_1_conv[0][0]'] \n",
            " rmalization)                                                                                     \n",
            "                                                                                                  \n",
            " conv3_block2_1_relu (Activ  (None, 54, 44, 128)          0         ['conv3_block2_1_bn[0][0]']   \n",
            " ation)                                                                                           \n",
            "                                                                                                  \n",
            " conv3_block2_2_conv (Conv2  (None, 54, 44, 128)          147584    ['conv3_block2_1_relu[0][0]'] \n",
            " D)                                                                                               \n",
            "                                                                                                  \n",
            " conv3_block2_2_bn (BatchNo  (None, 54, 44, 128)          512       ['conv3_block2_2_conv[0][0]'] \n",
            " rmalization)                                                                                     \n",
            "                                                                                                  \n",
            " conv3_block2_2_relu (Activ  (None, 54, 44, 128)          0         ['conv3_block2_2_bn[0][0]']   \n",
            " ation)                                                                                           \n",
            "                                                                                                  \n",
            " conv3_block2_3_conv (Conv2  (None, 54, 44, 512)          66048     ['conv3_block2_2_relu[0][0]'] \n",
            " D)                                                                                               \n",
            "                                                                                                  \n",
            " conv3_block2_3_bn (BatchNo  (None, 54, 44, 512)          2048      ['conv3_block2_3_conv[0][0]'] \n",
            " rmalization)                                                                                     \n",
            "                                                                                                  \n",
            " conv3_block2_add (Add)      (None, 54, 44, 512)          0         ['conv3_block1_out[0][0]',    \n",
            "                                                                     'conv3_block2_3_bn[0][0]']   \n",
            "                                                                                                  \n",
            " conv3_block2_out (Activati  (None, 54, 44, 512)          0         ['conv3_block2_add[0][0]']    \n",
            " on)                                                                                              \n",
            "                                                                                                  \n",
            " conv3_block3_1_conv (Conv2  (None, 54, 44, 128)          65664     ['conv3_block2_out[0][0]']    \n",
            " D)                                                                                               \n",
            "                                                                                                  \n",
            " conv3_block3_1_bn (BatchNo  (None, 54, 44, 128)          512       ['conv3_block3_1_conv[0][0]'] \n",
            " rmalization)                                                                                     \n",
            "                                                                                                  \n",
            " conv3_block3_1_relu (Activ  (None, 54, 44, 128)          0         ['conv3_block3_1_bn[0][0]']   \n",
            " ation)                                                                                           \n",
            "                                                                                                  \n",
            " conv3_block3_2_conv (Conv2  (None, 54, 44, 128)          147584    ['conv3_block3_1_relu[0][0]'] \n",
            " D)                                                                                               \n",
            "                                                                                                  \n",
            " conv3_block3_2_bn (BatchNo  (None, 54, 44, 128)          512       ['conv3_block3_2_conv[0][0]'] \n",
            " rmalization)                                                                                     \n",
            "                                                                                                  \n",
            " conv3_block3_2_relu (Activ  (None, 54, 44, 128)          0         ['conv3_block3_2_bn[0][0]']   \n",
            " ation)                                                                                           \n",
            "                                                                                                  \n",
            " conv3_block3_3_conv (Conv2  (None, 54, 44, 512)          66048     ['conv3_block3_2_relu[0][0]'] \n",
            " D)                                                                                               \n",
            "                                                                                                  \n",
            " conv3_block3_3_bn (BatchNo  (None, 54, 44, 512)          2048      ['conv3_block3_3_conv[0][0]'] \n",
            " rmalization)                                                                                     \n",
            "                                                                                                  \n",
            " conv3_block3_add (Add)      (None, 54, 44, 512)          0         ['conv3_block2_out[0][0]',    \n",
            "                                                                     'conv3_block3_3_bn[0][0]']   \n",
            "                                                                                                  \n",
            " conv3_block3_out (Activati  (None, 54, 44, 512)          0         ['conv3_block3_add[0][0]']    \n",
            " on)                                                                                              \n",
            "                                                                                                  \n",
            " conv3_block4_1_conv (Conv2  (None, 54, 44, 128)          65664     ['conv3_block3_out[0][0]']    \n",
            " D)                                                                                               \n",
            "                                                                                                  \n",
            " conv3_block4_1_bn (BatchNo  (None, 54, 44, 128)          512       ['conv3_block4_1_conv[0][0]'] \n",
            " rmalization)                                                                                     \n",
            "                                                                                                  \n",
            " conv3_block4_1_relu (Activ  (None, 54, 44, 128)          0         ['conv3_block4_1_bn[0][0]']   \n",
            " ation)                                                                                           \n",
            "                                                                                                  \n",
            " conv3_block4_2_conv (Conv2  (None, 54, 44, 128)          147584    ['conv3_block4_1_relu[0][0]'] \n",
            " D)                                                                                               \n",
            "                                                                                                  \n",
            " conv3_block4_2_bn (BatchNo  (None, 54, 44, 128)          512       ['conv3_block4_2_conv[0][0]'] \n",
            " rmalization)                                                                                     \n",
            "                                                                                                  \n",
            " conv3_block4_2_relu (Activ  (None, 54, 44, 128)          0         ['conv3_block4_2_bn[0][0]']   \n",
            " ation)                                                                                           \n",
            "                                                                                                  \n",
            " conv3_block4_3_conv (Conv2  (None, 54, 44, 512)          66048     ['conv3_block4_2_relu[0][0]'] \n",
            " D)                                                                                               \n",
            "                                                                                                  \n",
            " conv3_block4_3_bn (BatchNo  (None, 54, 44, 512)          2048      ['conv3_block4_3_conv[0][0]'] \n",
            " rmalization)                                                                                     \n",
            "                                                                                                  \n",
            " conv3_block4_add (Add)      (None, 54, 44, 512)          0         ['conv3_block3_out[0][0]',    \n",
            "                                                                     'conv3_block4_3_bn[0][0]']   \n",
            "                                                                                                  \n",
            " conv3_block4_out (Activati  (None, 54, 44, 512)          0         ['conv3_block4_add[0][0]']    \n",
            " on)                                                                                              \n",
            "                                                                                                  \n",
            " conv4_block1_1_conv (Conv2  (None, 27, 22, 256)          131328    ['conv3_block4_out[0][0]']    \n",
            " D)                                                                                               \n",
            "                                                                                                  \n",
            " conv4_block1_1_bn (BatchNo  (None, 27, 22, 256)          1024      ['conv4_block1_1_conv[0][0]'] \n",
            " rmalization)                                                                                     \n",
            "                                                                                                  \n",
            " conv4_block1_1_relu (Activ  (None, 27, 22, 256)          0         ['conv4_block1_1_bn[0][0]']   \n",
            " ation)                                                                                           \n",
            "                                                                                                  \n",
            " conv4_block1_2_conv (Conv2  (None, 27, 22, 256)          590080    ['conv4_block1_1_relu[0][0]'] \n",
            " D)                                                                                               \n",
            "                                                                                                  \n",
            " conv4_block1_2_bn (BatchNo  (None, 27, 22, 256)          1024      ['conv4_block1_2_conv[0][0]'] \n",
            " rmalization)                                                                                     \n",
            "                                                                                                  \n",
            " conv4_block1_2_relu (Activ  (None, 27, 22, 256)          0         ['conv4_block1_2_bn[0][0]']   \n",
            " ation)                                                                                           \n",
            "                                                                                                  \n",
            " conv4_block1_0_conv (Conv2  (None, 27, 22, 1024)         525312    ['conv3_block4_out[0][0]']    \n",
            " D)                                                                                               \n",
            "                                                                                                  \n",
            " conv4_block1_3_conv (Conv2  (None, 27, 22, 1024)         263168    ['conv4_block1_2_relu[0][0]'] \n",
            " D)                                                                                               \n",
            "                                                                                                  \n",
            " conv4_block1_0_bn (BatchNo  (None, 27, 22, 1024)         4096      ['conv4_block1_0_conv[0][0]'] \n",
            " rmalization)                                                                                     \n",
            "                                                                                                  \n",
            " conv4_block1_3_bn (BatchNo  (None, 27, 22, 1024)         4096      ['conv4_block1_3_conv[0][0]'] \n",
            " rmalization)                                                                                     \n",
            "                                                                                                  \n",
            " conv4_block1_add (Add)      (None, 27, 22, 1024)         0         ['conv4_block1_0_bn[0][0]',   \n",
            "                                                                     'conv4_block1_3_bn[0][0]']   \n",
            "                                                                                                  \n",
            " conv4_block1_out (Activati  (None, 27, 22, 1024)         0         ['conv4_block1_add[0][0]']    \n",
            " on)                                                                                              \n",
            "                                                                                                  \n",
            " conv4_block2_1_conv (Conv2  (None, 27, 22, 256)          262400    ['conv4_block1_out[0][0]']    \n",
            " D)                                                                                               \n",
            "                                                                                                  \n",
            " conv4_block2_1_bn (BatchNo  (None, 27, 22, 256)          1024      ['conv4_block2_1_conv[0][0]'] \n",
            " rmalization)                                                                                     \n",
            "                                                                                                  \n",
            " conv4_block2_1_relu (Activ  (None, 27, 22, 256)          0         ['conv4_block2_1_bn[0][0]']   \n",
            " ation)                                                                                           \n",
            "                                                                                                  \n",
            " conv4_block2_2_conv (Conv2  (None, 27, 22, 256)          590080    ['conv4_block2_1_relu[0][0]'] \n",
            " D)                                                                                               \n",
            "                                                                                                  \n",
            " conv4_block2_2_bn (BatchNo  (None, 27, 22, 256)          1024      ['conv4_block2_2_conv[0][0]'] \n",
            " rmalization)                                                                                     \n",
            "                                                                                                  \n",
            " conv4_block2_2_relu (Activ  (None, 27, 22, 256)          0         ['conv4_block2_2_bn[0][0]']   \n",
            " ation)                                                                                           \n",
            "                                                                                                  \n",
            " conv4_block2_3_conv (Conv2  (None, 27, 22, 1024)         263168    ['conv4_block2_2_relu[0][0]'] \n",
            " D)                                                                                               \n",
            "                                                                                                  \n",
            " conv4_block2_3_bn (BatchNo  (None, 27, 22, 1024)         4096      ['conv4_block2_3_conv[0][0]'] \n",
            " rmalization)                                                                                     \n",
            "                                                                                                  \n",
            " conv4_block2_add (Add)      (None, 27, 22, 1024)         0         ['conv4_block1_out[0][0]',    \n",
            "                                                                     'conv4_block2_3_bn[0][0]']   \n",
            "                                                                                                  \n",
            " conv4_block2_out (Activati  (None, 27, 22, 1024)         0         ['conv4_block2_add[0][0]']    \n",
            " on)                                                                                              \n",
            "                                                                                                  \n",
            " conv4_block3_1_conv (Conv2  (None, 27, 22, 256)          262400    ['conv4_block2_out[0][0]']    \n",
            " D)                                                                                               \n",
            "                                                                                                  \n",
            " conv4_block3_1_bn (BatchNo  (None, 27, 22, 256)          1024      ['conv4_block3_1_conv[0][0]'] \n",
            " rmalization)                                                                                     \n",
            "                                                                                                  \n",
            " conv4_block3_1_relu (Activ  (None, 27, 22, 256)          0         ['conv4_block3_1_bn[0][0]']   \n",
            " ation)                                                                                           \n",
            "                                                                                                  \n",
            " conv4_block3_2_conv (Conv2  (None, 27, 22, 256)          590080    ['conv4_block3_1_relu[0][0]'] \n",
            " D)                                                                                               \n",
            "                                                                                                  \n",
            " conv4_block3_2_bn (BatchNo  (None, 27, 22, 256)          1024      ['conv4_block3_2_conv[0][0]'] \n",
            " rmalization)                                                                                     \n",
            "                                                                                                  \n",
            " conv4_block3_2_relu (Activ  (None, 27, 22, 256)          0         ['conv4_block3_2_bn[0][0]']   \n",
            " ation)                                                                                           \n",
            "                                                                                                  \n",
            " conv4_block3_3_conv (Conv2  (None, 27, 22, 1024)         263168    ['conv4_block3_2_relu[0][0]'] \n",
            " D)                                                                                               \n",
            "                                                                                                  \n",
            " conv4_block3_3_bn (BatchNo  (None, 27, 22, 1024)         4096      ['conv4_block3_3_conv[0][0]'] \n",
            " rmalization)                                                                                     \n",
            "                                                                                                  \n",
            " conv4_block3_add (Add)      (None, 27, 22, 1024)         0         ['conv4_block2_out[0][0]',    \n",
            "                                                                     'conv4_block3_3_bn[0][0]']   \n",
            "                                                                                                  \n",
            " conv4_block3_out (Activati  (None, 27, 22, 1024)         0         ['conv4_block3_add[0][0]']    \n",
            " on)                                                                                              \n",
            "                                                                                                  \n",
            " conv4_block4_1_conv (Conv2  (None, 27, 22, 256)          262400    ['conv4_block3_out[0][0]']    \n",
            " D)                                                                                               \n",
            "                                                                                                  \n",
            " conv4_block4_1_bn (BatchNo  (None, 27, 22, 256)          1024      ['conv4_block4_1_conv[0][0]'] \n",
            " rmalization)                                                                                     \n",
            "                                                                                                  \n",
            " conv4_block4_1_relu (Activ  (None, 27, 22, 256)          0         ['conv4_block4_1_bn[0][0]']   \n",
            " ation)                                                                                           \n",
            "                                                                                                  \n",
            " conv4_block4_2_conv (Conv2  (None, 27, 22, 256)          590080    ['conv4_block4_1_relu[0][0]'] \n",
            " D)                                                                                               \n",
            "                                                                                                  \n",
            " conv4_block4_2_bn (BatchNo  (None, 27, 22, 256)          1024      ['conv4_block4_2_conv[0][0]'] \n",
            " rmalization)                                                                                     \n",
            "                                                                                                  \n",
            " conv4_block4_2_relu (Activ  (None, 27, 22, 256)          0         ['conv4_block4_2_bn[0][0]']   \n",
            " ation)                                                                                           \n",
            "                                                                                                  \n",
            " conv4_block4_3_conv (Conv2  (None, 27, 22, 1024)         263168    ['conv4_block4_2_relu[0][0]'] \n",
            " D)                                                                                               \n",
            "                                                                                                  \n",
            " conv4_block4_3_bn (BatchNo  (None, 27, 22, 1024)         4096      ['conv4_block4_3_conv[0][0]'] \n",
            " rmalization)                                                                                     \n",
            "                                                                                                  \n",
            " conv4_block4_add (Add)      (None, 27, 22, 1024)         0         ['conv4_block3_out[0][0]',    \n",
            "                                                                     'conv4_block4_3_bn[0][0]']   \n",
            "                                                                                                  \n",
            " conv4_block4_out (Activati  (None, 27, 22, 1024)         0         ['conv4_block4_add[0][0]']    \n",
            " on)                                                                                              \n",
            "                                                                                                  \n",
            " conv4_block5_1_conv (Conv2  (None, 27, 22, 256)          262400    ['conv4_block4_out[0][0]']    \n",
            " D)                                                                                               \n",
            "                                                                                                  \n",
            " conv4_block5_1_bn (BatchNo  (None, 27, 22, 256)          1024      ['conv4_block5_1_conv[0][0]'] \n",
            " rmalization)                                                                                     \n",
            "                                                                                                  \n",
            " conv4_block5_1_relu (Activ  (None, 27, 22, 256)          0         ['conv4_block5_1_bn[0][0]']   \n",
            " ation)                                                                                           \n",
            "                                                                                                  \n",
            " conv4_block5_2_conv (Conv2  (None, 27, 22, 256)          590080    ['conv4_block5_1_relu[0][0]'] \n",
            " D)                                                                                               \n",
            "                                                                                                  \n",
            " conv4_block5_2_bn (BatchNo  (None, 27, 22, 256)          1024      ['conv4_block5_2_conv[0][0]'] \n",
            " rmalization)                                                                                     \n",
            "                                                                                                  \n",
            " conv4_block5_2_relu (Activ  (None, 27, 22, 256)          0         ['conv4_block5_2_bn[0][0]']   \n",
            " ation)                                                                                           \n",
            "                                                                                                  \n",
            " conv4_block5_3_conv (Conv2  (None, 27, 22, 1024)         263168    ['conv4_block5_2_relu[0][0]'] \n",
            " D)                                                                                               \n",
            "                                                                                                  \n",
            " conv4_block5_3_bn (BatchNo  (None, 27, 22, 1024)         4096      ['conv4_block5_3_conv[0][0]'] \n",
            " rmalization)                                                                                     \n",
            "                                                                                                  \n",
            " conv4_block5_add (Add)      (None, 27, 22, 1024)         0         ['conv4_block4_out[0][0]',    \n",
            "                                                                     'conv4_block5_3_bn[0][0]']   \n",
            "                                                                                                  \n",
            " conv4_block5_out (Activati  (None, 27, 22, 1024)         0         ['conv4_block5_add[0][0]']    \n",
            " on)                                                                                              \n",
            "                                                                                                  \n",
            " conv4_block6_1_conv (Conv2  (None, 27, 22, 256)          262400    ['conv4_block5_out[0][0]']    \n",
            " D)                                                                                               \n",
            "                                                                                                  \n",
            " conv4_block6_1_bn (BatchNo  (None, 27, 22, 256)          1024      ['conv4_block6_1_conv[0][0]'] \n",
            " rmalization)                                                                                     \n",
            "                                                                                                  \n",
            " conv4_block6_1_relu (Activ  (None, 27, 22, 256)          0         ['conv4_block6_1_bn[0][0]']   \n",
            " ation)                                                                                           \n",
            "                                                                                                  \n",
            " conv4_block6_2_conv (Conv2  (None, 27, 22, 256)          590080    ['conv4_block6_1_relu[0][0]'] \n",
            " D)                                                                                               \n",
            "                                                                                                  \n",
            " conv4_block6_2_bn (BatchNo  (None, 27, 22, 256)          1024      ['conv4_block6_2_conv[0][0]'] \n",
            " rmalization)                                                                                     \n",
            "                                                                                                  \n",
            " conv4_block6_2_relu (Activ  (None, 27, 22, 256)          0         ['conv4_block6_2_bn[0][0]']   \n",
            " ation)                                                                                           \n",
            "                                                                                                  \n",
            " conv4_block6_3_conv (Conv2  (None, 27, 22, 1024)         263168    ['conv4_block6_2_relu[0][0]'] \n",
            " D)                                                                                               \n",
            "                                                                                                  \n",
            " conv4_block6_3_bn (BatchNo  (None, 27, 22, 1024)         4096      ['conv4_block6_3_conv[0][0]'] \n",
            " rmalization)                                                                                     \n",
            "                                                                                                  \n",
            " conv4_block6_add (Add)      (None, 27, 22, 1024)         0         ['conv4_block5_out[0][0]',    \n",
            "                                                                     'conv4_block6_3_bn[0][0]']   \n",
            "                                                                                                  \n",
            " conv4_block6_out (Activati  (None, 27, 22, 1024)         0         ['conv4_block6_add[0][0]']    \n",
            " on)                                                                                              \n",
            "                                                                                                  \n",
            " conv5_block1_1_conv (Conv2  (None, 14, 11, 512)          524800    ['conv4_block6_out[0][0]']    \n",
            " D)                                                                                               \n",
            "                                                                                                  \n",
            " conv5_block1_1_bn (BatchNo  (None, 14, 11, 512)          2048      ['conv5_block1_1_conv[0][0]'] \n",
            " rmalization)                                                                                     \n",
            "                                                                                                  \n",
            " conv5_block1_1_relu (Activ  (None, 14, 11, 512)          0         ['conv5_block1_1_bn[0][0]']   \n",
            " ation)                                                                                           \n",
            "                                                                                                  \n",
            " conv5_block1_2_conv (Conv2  (None, 14, 11, 512)          2359808   ['conv5_block1_1_relu[0][0]'] \n",
            " D)                                                                                               \n",
            "                                                                                                  \n",
            " conv5_block1_2_bn (BatchNo  (None, 14, 11, 512)          2048      ['conv5_block1_2_conv[0][0]'] \n",
            " rmalization)                                                                                     \n",
            "                                                                                                  \n",
            " conv5_block1_2_relu (Activ  (None, 14, 11, 512)          0         ['conv5_block1_2_bn[0][0]']   \n",
            " ation)                                                                                           \n",
            "                                                                                                  \n",
            " conv5_block1_0_conv (Conv2  (None, 14, 11, 2048)         2099200   ['conv4_block6_out[0][0]']    \n",
            " D)                                                                                               \n",
            "                                                                                                  \n",
            " conv5_block1_3_conv (Conv2  (None, 14, 11, 2048)         1050624   ['conv5_block1_2_relu[0][0]'] \n",
            " D)                                                                                               \n",
            "                                                                                                  \n",
            " conv5_block1_0_bn (BatchNo  (None, 14, 11, 2048)         8192      ['conv5_block1_0_conv[0][0]'] \n",
            " rmalization)                                                                                     \n",
            "                                                                                                  \n",
            " conv5_block1_3_bn (BatchNo  (None, 14, 11, 2048)         8192      ['conv5_block1_3_conv[0][0]'] \n",
            " rmalization)                                                                                     \n",
            "                                                                                                  \n",
            " conv5_block1_add (Add)      (None, 14, 11, 2048)         0         ['conv5_block1_0_bn[0][0]',   \n",
            "                                                                     'conv5_block1_3_bn[0][0]']   \n",
            "                                                                                                  \n",
            " conv5_block1_out (Activati  (None, 14, 11, 2048)         0         ['conv5_block1_add[0][0]']    \n",
            " on)                                                                                              \n",
            "                                                                                                  \n",
            " conv5_block2_1_conv (Conv2  (None, 14, 11, 512)          1049088   ['conv5_block1_out[0][0]']    \n",
            " D)                                                                                               \n",
            "                                                                                                  \n",
            " conv5_block2_1_bn (BatchNo  (None, 14, 11, 512)          2048      ['conv5_block2_1_conv[0][0]'] \n",
            " rmalization)                                                                                     \n",
            "                                                                                                  \n",
            " conv5_block2_1_relu (Activ  (None, 14, 11, 512)          0         ['conv5_block2_1_bn[0][0]']   \n",
            " ation)                                                                                           \n",
            "                                                                                                  \n",
            " conv5_block2_2_conv (Conv2  (None, 14, 11, 512)          2359808   ['conv5_block2_1_relu[0][0]'] \n",
            " D)                                                                                               \n",
            "                                                                                                  \n",
            " conv5_block2_2_bn (BatchNo  (None, 14, 11, 512)          2048      ['conv5_block2_2_conv[0][0]'] \n",
            " rmalization)                                                                                     \n",
            "                                                                                                  \n",
            " conv5_block2_2_relu (Activ  (None, 14, 11, 512)          0         ['conv5_block2_2_bn[0][0]']   \n",
            " ation)                                                                                           \n",
            "                                                                                                  \n",
            " conv5_block2_3_conv (Conv2  (None, 14, 11, 2048)         1050624   ['conv5_block2_2_relu[0][0]'] \n",
            " D)                                                                                               \n",
            "                                                                                                  \n",
            " conv5_block2_3_bn (BatchNo  (None, 14, 11, 2048)         8192      ['conv5_block2_3_conv[0][0]'] \n",
            " rmalization)                                                                                     \n",
            "                                                                                                  \n",
            " conv5_block2_add (Add)      (None, 14, 11, 2048)         0         ['conv5_block1_out[0][0]',    \n",
            "                                                                     'conv5_block2_3_bn[0][0]']   \n",
            "                                                                                                  \n",
            " conv5_block2_out (Activati  (None, 14, 11, 2048)         0         ['conv5_block2_add[0][0]']    \n",
            " on)                                                                                              \n",
            "                                                                                                  \n",
            " conv5_block3_1_conv (Conv2  (None, 14, 11, 512)          1049088   ['conv5_block2_out[0][0]']    \n",
            " D)                                                                                               \n",
            "                                                                                                  \n",
            " conv5_block3_1_bn (BatchNo  (None, 14, 11, 512)          2048      ['conv5_block3_1_conv[0][0]'] \n",
            " rmalization)                                                                                     \n",
            "                                                                                                  \n",
            " conv5_block3_1_relu (Activ  (None, 14, 11, 512)          0         ['conv5_block3_1_bn[0][0]']   \n",
            " ation)                                                                                           \n",
            "                                                                                                  \n",
            " conv5_block3_2_conv (Conv2  (None, 14, 11, 512)          2359808   ['conv5_block3_1_relu[0][0]'] \n",
            " D)                                                                                               \n",
            "                                                                                                  \n",
            " conv5_block3_2_bn (BatchNo  (None, 14, 11, 512)          2048      ['conv5_block3_2_conv[0][0]'] \n",
            " rmalization)                                                                                     \n",
            "                                                                                                  \n",
            " conv5_block3_2_relu (Activ  (None, 14, 11, 512)          0         ['conv5_block3_2_bn[0][0]']   \n",
            " ation)                                                                                           \n",
            "                                                                                                  \n",
            " conv5_block3_3_conv (Conv2  (None, 14, 11, 2048)         1050624   ['conv5_block3_2_relu[0][0]'] \n",
            " D)                                                                                               \n",
            "                                                                                                  \n",
            " conv5_block3_3_bn (BatchNo  (None, 14, 11, 2048)         8192      ['conv5_block3_3_conv[0][0]'] \n",
            " rmalization)                                                                                     \n",
            "                                                                                                  \n",
            " conv5_block3_add (Add)      (None, 14, 11, 2048)         0         ['conv5_block2_out[0][0]',    \n",
            "                                                                     'conv5_block3_3_bn[0][0]']   \n",
            "                                                                                                  \n",
            " conv5_block3_out (Activati  (None, 14, 11, 2048)         0         ['conv5_block3_add[0][0]']    \n",
            " on)                                                                                              \n",
            "                                                                                                  \n",
            " global_average_pooling2d_1  (None, 2048)                 0         ['conv5_block3_out[0][0]']    \n",
            "  (GlobalAveragePooling2D)                                                                        \n",
            "                                                                                                  \n",
            " dense_2 (Dense)             (None, 256)                  524544    ['global_average_pooling2d_1[0\n",
            "                                                                    ][0]']                        \n",
            "                                                                                                  \n",
            " dense_3 (Dense)             (None, 5)                    1285      ['dense_2[0][0]']             \n",
            "                                                                                                  \n",
            "==================================================================================================\n",
            "Total params: 24113541 (91.99 MB)\n",
            "Trainable params: 15479301 (59.05 MB)\n",
            "Non-trainable params: 8634240 (32.94 MB)\n",
            "__________________________________________________________________________________________________\n"
          ]
        }
      ]
    },
    {
      "cell_type": "code",
      "source": [
        "\n",
        "history_resnet_functional = model.fit(train_ds,\n",
        "                        epochs=epochs,\n",
        "                        validation_data=val_ds,\n",
        "                        callbacks = [early_stopping_cb]\n",
        "                        )"
      ],
      "metadata": {
        "colab": {
          "base_uri": "https://localhost:8080/"
        },
        "id": "7LYI0BUt2dqs",
        "outputId": "a0f7ac78-2246-4e1f-8688-99cb75f517f0"
      },
      "execution_count": 73,
      "outputs": [
        {
          "output_type": "stream",
          "name": "stdout",
          "text": [
            "Epoch 1/40\n",
            "24/24 [==============================] - 27s 487ms/step - loss: 1.2242 - accuracy: 0.5482 - val_loss: 0.7845 - val_accuracy: 0.7695\n",
            "Epoch 2/40\n",
            "24/24 [==============================] - 11s 433ms/step - loss: 0.5335 - accuracy: 0.8841 - val_loss: 0.3198 - val_accuracy: 0.9258\n",
            "Epoch 3/40\n",
            "24/24 [==============================] - 10s 435ms/step - loss: 0.2686 - accuracy: 0.9297 - val_loss: 0.1981 - val_accuracy: 0.9570\n",
            "Epoch 4/40\n",
            "24/24 [==============================] - 10s 435ms/step - loss: 0.1839 - accuracy: 0.9479 - val_loss: 0.1716 - val_accuracy: 0.9531\n",
            "Epoch 5/40\n",
            "24/24 [==============================] - 10s 428ms/step - loss: 0.1293 - accuracy: 0.9701 - val_loss: 0.1843 - val_accuracy: 0.9453\n",
            "Epoch 6/40\n",
            "24/24 [==============================] - 11s 452ms/step - loss: 0.0882 - accuracy: 0.9766 - val_loss: 0.1526 - val_accuracy: 0.9531\n",
            "Epoch 7/40\n",
            "24/24 [==============================] - 11s 440ms/step - loss: 0.0472 - accuracy: 0.9909 - val_loss: 0.1253 - val_accuracy: 0.9688\n",
            "Epoch 8/40\n",
            "24/24 [==============================] - 11s 440ms/step - loss: 0.0276 - accuracy: 0.9935 - val_loss: 0.1174 - val_accuracy: 0.9609\n",
            "Epoch 9/40\n",
            "24/24 [==============================] - 11s 436ms/step - loss: 0.0168 - accuracy: 0.9974 - val_loss: 0.1191 - val_accuracy: 0.9688\n",
            "Epoch 10/40\n",
            "24/24 [==============================] - 11s 442ms/step - loss: 0.0149 - accuracy: 0.9961 - val_loss: 0.1152 - val_accuracy: 0.9688\n",
            "Epoch 11/40\n",
            "24/24 [==============================] - 11s 452ms/step - loss: 0.0121 - accuracy: 0.9987 - val_loss: 0.1304 - val_accuracy: 0.9688\n",
            "Epoch 12/40\n",
            "24/24 [==============================] - 15s 612ms/step - loss: 0.0139 - accuracy: 0.9974 - val_loss: 0.1350 - val_accuracy: 0.9570\n",
            "Epoch 13/40\n",
            "24/24 [==============================] - 11s 439ms/step - loss: 0.0109 - accuracy: 0.9974 - val_loss: 0.1441 - val_accuracy: 0.9648\n",
            "Epoch 14/40\n",
            "24/24 [==============================] - 11s 441ms/step - loss: 0.0112 - accuracy: 0.9987 - val_loss: 0.1522 - val_accuracy: 0.9570\n",
            "Epoch 15/40\n",
            "24/24 [==============================] - 11s 454ms/step - loss: 0.0081 - accuracy: 0.9987 - val_loss: 0.1517 - val_accuracy: 0.9648\n",
            "Epoch 16/40\n",
            "24/24 [==============================] - 11s 444ms/step - loss: 0.0075 - accuracy: 0.9987 - val_loss: 0.1466 - val_accuracy: 0.9688\n",
            "Epoch 17/40\n",
            "24/24 [==============================] - 11s 450ms/step - loss: 0.0045 - accuracy: 0.9987 - val_loss: 0.1362 - val_accuracy: 0.9688\n",
            "Epoch 18/40\n",
            "24/24 [==============================] - 11s 445ms/step - loss: 0.0042 - accuracy: 0.9974 - val_loss: 0.1490 - val_accuracy: 0.9688\n",
            "Epoch 19/40\n",
            "24/24 [==============================] - 11s 445ms/step - loss: 0.0040 - accuracy: 0.9974 - val_loss: 0.1471 - val_accuracy: 0.9688\n",
            "Epoch 20/40\n",
            "24/24 [==============================] - 11s 460ms/step - loss: 0.0037 - accuracy: 0.9974 - val_loss: 0.1506 - val_accuracy: 0.9688\n"
          ]
        }
      ]
    },
    {
      "cell_type": "code",
      "source": [
        "plot_accuracy_loss(history_resnet_functional)"
      ],
      "metadata": {
        "colab": {
          "base_uri": "https://localhost:8080/",
          "height": 545
        },
        "id": "zLzoM8tj43Is",
        "outputId": "b2d9c457-8e83-40c4-e66c-c8dac673ff99"
      },
      "execution_count": 74,
      "outputs": [
        {
          "output_type": "display_data",
          "data": {
            "text/plain": [
              "<Figure size 1200x600 with 2 Axes>"
            ],
            "image/png": "[encoded data removed]"
          },
          "metadata": {}
        }
      ]
    },
    {
      "cell_type": "code",
      "source": [
        "y_true, y_pred = eval_model_on_test(model, test_ds)\n",
        "\n",
        "print(\"Accuracy of base model on test data: %.2f%%\" % (accuracy_score(y_true, y_pred)*100))\n",
        "print(classification_report(y_true, y_pred, target_names=CLASSES))\n",
        "pd.DataFrame(confusion_matrix(y_true, y_pred))"
      ],
      "metadata": {
        "colab": {
          "base_uri": "https://localhost:8080/",
          "height": 608
        },
        "id": "7tCGcb83eaq1",
        "outputId": "df1e143e-40ba-42f5-c3f5-b05bd41b3ec0"
      },
      "execution_count": 75,
      "outputs": [
        {
          "output_type": "stream",
          "name": "stderr",
          "text": [
            "\rPredicting on Test Data:   0%|          | 0/8 [00:00<?, ?it/s]"
          ]
        },
        {
          "output_type": "stream",
          "name": "stdout",
          "text": [
            "1/1 [==============================] - 2s 2s/step\n"
          ]
        },
        {
          "output_type": "stream",
          "name": "stderr",
          "text": [
            "\rPredicting on Test Data:  12%|█▎        | 1/8 [00:02<00:20,  2.95s/it]"
          ]
        },
        {
          "output_type": "stream",
          "name": "stdout",
          "text": [
            "1/1 [==============================] - 0s 103ms/step\n"
          ]
        },
        {
          "output_type": "stream",
          "name": "stderr",
          "text": [
            "\rPredicting on Test Data:  25%|██▌       | 2/8 [00:03<00:08,  1.45s/it]"
          ]
        },
        {
          "output_type": "stream",
          "name": "stdout",
          "text": [
            "1/1 [==============================] - 0s 93ms/step\n"
          ]
        },
        {
          "output_type": "stream",
          "name": "stderr",
          "text": [
            "\rPredicting on Test Data:  38%|███▊      | 3/8 [00:03<00:04,  1.03it/s]"
          ]
        },
        {
          "output_type": "stream",
          "name": "stdout",
          "text": [
            "1/1 [==============================] - 0s 73ms/step\n"
          ]
        },
        {
          "output_type": "stream",
          "name": "stderr",
          "text": [
            "\rPredicting on Test Data:  50%|█████     | 4/8 [00:04<00:02,  1.35it/s]"
          ]
        },
        {
          "output_type": "stream",
          "name": "stdout",
          "text": [
            "1/1 [==============================] - 0s 78ms/step\n"
          ]
        },
        {
          "output_type": "stream",
          "name": "stderr",
          "text": [
            "\rPredicting on Test Data:  62%|██████▎   | 5/8 [00:04<00:01,  1.65it/s]"
          ]
        },
        {
          "output_type": "stream",
          "name": "stdout",
          "text": [
            "1/1 [==============================] - 0s 81ms/step\n"
          ]
        },
        {
          "output_type": "stream",
          "name": "stderr",
          "text": [
            "\rPredicting on Test Data:  75%|███████▌  | 6/8 [00:04<00:01,  1.91it/s]"
          ]
        },
        {
          "output_type": "stream",
          "name": "stdout",
          "text": [
            "1/1 [==============================] - 0s 73ms/step\n"
          ]
        },
        {
          "output_type": "stream",
          "name": "stderr",
          "text": [
            "\rPredicting on Test Data:  88%|████████▊ | 7/8 [00:05<00:00,  2.15it/s]"
          ]
        },
        {
          "output_type": "stream",
          "name": "stdout",
          "text": [
            "1/1 [==============================] - 2s 2s/step\n"
          ]
        },
        {
          "output_type": "stream",
          "name": "stderr",
          "text": [
            "Predicting on Test Data: 100%|██████████| 8/8 [00:07<00:00,  1.11it/s]"
          ]
        },
        {
          "output_type": "stream",
          "name": "stdout",
          "text": [
            "Accuracy of base model on test data: 93.81%\n",
            "                       precision    recall  f1-score   support\n",
            "\n",
            "waesche_0_model_front       0.87      0.92      0.89        49\n",
            "     waesche_1_zoomed       1.00      1.00      1.00        35\n",
            " waesche_2_model_back       0.98      0.89      0.93        46\n",
            "      waesche_3_ghost       0.91      0.91      0.91        45\n",
            "       waesche_4_look       0.96      0.98      0.97        51\n",
            "\n",
            "             accuracy                           0.94       226\n",
            "            macro avg       0.94      0.94      0.94       226\n",
            "         weighted avg       0.94      0.94      0.94       226\n",
            "\n"
          ]
        },
        {
          "output_type": "stream",
          "name": "stderr",
          "text": [
            "\n"
          ]
        },
        {
          "output_type": "execute_result",
          "data": {
            "text/plain": [
              "    0   1   2   3   4\n",
              "0  45   0   1   2   1\n",
              "1   0  35   0   0   0\n",
              "2   4   0  41   1   0\n",
              "3   3   0   0  41   1\n",
              "4   0   0   0   1  50"
            ],
            "text/html": [
              "\n",
              "  <div id=\"df-913198b4-e139-40ce-8e52-1bb2e6a5a2ea\" class=\"colab-df-container\">\n",
              "    <div>\n",
              "<style scoped>\n",
              "    .dataframe tbody tr th:only-of-type {\n",
              "        vertical-align: middle;\n",
              "    }\n",
              "\n",
              "    .dataframe tbody tr th {\n",
              "        vertical-align: top;\n",
              "    }\n",
              "\n",
              "    .dataframe thead th {\n",
              "        text-align: right;\n",
              "    }\n",
              "</style>\n",
              "<table border=\"1\" class=\"dataframe\">\n",
              "  <thead>\n",
              "    <tr style=\"text-align: right;\">\n",
              "      <th></th>\n",
              "      <th>0</th>\n",
              "      <th>1</th>\n",
              "      <th>2</th>\n",
              "      <th>3</th>\n",
              "      <th>4</th>\n",
              "    </tr>\n",
              "  </thead>\n",
              "  <tbody>\n",
              "    <tr>\n",
              "      <th>0</th>\n",
              "      <td>45</td>\n",
              "      <td>0</td>\n",
              "      <td>1</td>\n",
              "      <td>2</td>\n",
              "      <td>1</td>\n",
              "    </tr>\n",
              "    <tr>\n",
              "      <th>1</th>\n",
              "      <td>0</td>\n",
              "      <td>35</td>\n",
              "      <td>0</td>\n",
              "      <td>0</td>\n",
              "      <td>0</td>\n",
              "    </tr>\n",
              "    <tr>\n",
              "      <th>2</th>\n",
              "      <td>4</td>\n",
              "      <td>0</td>\n",
              "      <td>41</td>\n",
              "      <td>1</td>\n",
              "      <td>0</td>\n",
              "    </tr>\n",
              "    <tr>\n",
              "      <th>3</th>\n",
              "      <td>3</td>\n",
              "      <td>0</td>\n",
              "      <td>0</td>\n",
              "      <td>41</td>\n",
              "      <td>1</td>\n",
              "    </tr>\n",
              "    <tr>\n",
              "      <th>4</th>\n",
              "      <td>0</td>\n",
              "      <td>0</td>\n",
              "      <td>0</td>\n",
              "      <td>1</td>\n",
              "      <td>50</td>\n",
              "    </tr>\n",
              "  </tbody>\n",
              "</table>\n",
              "</div>\n",
              "    <div class=\"colab-df-buttons\">\n",
              "\n",
              "  <div class=\"colab-df-container\">\n",
              "    <button class=\"colab-df-convert\" onclick=\"convertToInteractive('df-913198b4-e139-40ce-8e52-1bb2e6a5a2ea')\"\n",
              "            title=\"Convert this dataframe to an interactive table.\"\n",
              "            style=\"display:none;\">\n",
              "\n",
              "  <svg xmlns=\"http://www.w3.org/2000/svg\" height=\"24px\" viewBox=\"0 -960 960 960\">\n",
              "    <path d=\"M120-120v-720h720v720H120Zm60-500h600v-160H180v160Zm220 220h160v-160H400v160Zm0 220h160v-160H400v160ZM180-400h160v-160H180v160Zm440 0h160v-160H620v160ZM180-180h160v-160H180v160Zm440 0h160v-160H620v160Z\"/>\n",
              "  </svg>\n",
              "    </button>\n",
              "\n",
              "  <style>\n",
              "    .colab-df-container {\n",
              "      display:flex;\n",
              "      gap: 12px;\n",
              "    }\n",
              "\n",
              "    .colab-df-convert {\n",
              "      background-color: #E8F0FE;\n",
              "      border: none;\n",
              "      border-radius: 50%;\n",
              "      cursor: pointer;\n",
              "      display: none;\n",
              "      fill: #1967D2;\n",
              "      height: 32px;\n",
              "      padding: 0 0 0 0;\n",
              "      width: 32px;\n",
              "    }\n",
              "\n",
              "    .colab-df-convert:hover {\n",
              "      background-color: #E2EBFA;\n",
              "      box-shadow: 0px 1px 2px rgba(60, 64, 67, 0.3), 0px 1px 3px 1px rgba(60, 64, 67, 0.15);\n",
              "      fill: #174EA6;\n",
              "    }\n",
              "\n",
              "    .colab-df-buttons div {\n",
              "      margin-bottom: 4px;\n",
              "    }\n",
              "\n",
              "    [theme=dark] .colab-df-convert {\n",
              "      background-color: #3B4455;\n",
              "      fill: #D2E3FC;\n",
              "    }\n",
              "\n",
              "    [theme=dark] .colab-df-convert:hover {\n",
              "      background-color: #434B5C;\n",
              "      box-shadow: 0px 1px 3px 1px rgba(0, 0, 0, 0.15);\n",
              "      filter: drop-shadow(0px 1px 2px rgba(0, 0, 0, 0.3));\n",
              "      fill: #FFFFFF;\n",
              "    }\n",
              "  </style>\n",
              "\n",
              "    <script>\n",
              "      const buttonEl =\n",
              "        document.querySelector('#df-913198b4-e139-40ce-8e52-1bb2e6a5a2ea button.colab-df-convert');\n",
              "      buttonEl.style.display =\n",
              "        google.colab.kernel.accessAllowed ? 'block' : 'none';\n",
              "\n",
              "      async function convertToInteractive(key) {\n",
              "        const element = document.querySelector('#df-913198b4-e139-40ce-8e52-1bb2e6a5a2ea');\n",
              "        const dataTable =\n",
              "          await google.colab.kernel.invokeFunction('convertToInteractive',\n",
              "                                                    [key], {});\n",
              "        if (!dataTable) return;\n",
              "\n",
              "        const docLinkHtml = 'Like what you see? Visit the ' +\n",
              "          '<a target=\"_blank\" href=https://colab.research.google.com/notebooks/data_table.ipynb>data table notebook</a>'\n",
              "          + ' to learn more about interactive tables.';\n",
              "        element.innerHTML = '';\n",
              "        dataTable['output_type'] = 'display_data';\n",
              "        await google.colab.output.renderOutput(dataTable, element);\n",
              "        const docLink = document.createElement('div');\n",
              "        docLink.innerHTML = docLinkHtml;\n",
              "        element.appendChild(docLink);\n",
              "      }\n",
              "    </script>\n",
              "  </div>\n",
              "\n",
              "\n",
              "<div id=\"df-43869956-fac3-4725-a0f7-45d47c51a581\">\n",
              "  <button class=\"colab-df-quickchart\" onclick=\"quickchart('df-43869956-fac3-4725-a0f7-45d47c51a581')\"\n",
              "            title=\"Suggest charts\"\n",
              "            style=\"display:none;\">\n",
              "\n",
              "<svg xmlns=\"http://www.w3.org/2000/svg\" height=\"24px\"viewBox=\"0 0 24 24\"\n",
              "     width=\"24px\">\n",
              "    <g>\n",
              "        <path d=\"M19 3H5c-1.1 0-2 .9-2 2v14c0 1.1.9 2 2 2h14c1.1 0 2-.9 2-2V5c0-1.1-.9-2-2-2zM9 17H7v-7h2v7zm4 0h-2V7h2v10zm4 0h-2v-4h2v4z\"/>\n",
              "    </g>\n",
              "</svg>\n",
              "  </button>\n",
              "\n",
              "<style>\n",
              "  .colab-df-quickchart {\n",
              "      --bg-color: #E8F0FE;\n",
              "      --fill-color: #1967D2;\n",
              "      --hover-bg-color: #E2EBFA;\n",
              "      --hover-fill-color: #174EA6;\n",
              "      --disabled-fill-color: #AAA;\n",
              "      --disabled-bg-color: #DDD;\n",
              "  }\n",
              "\n",
              "  [theme=dark] .colab-df-quickchart {\n",
              "      --bg-color: #3B4455;\n",
              "      --fill-color: #D2E3FC;\n",
              "      --hover-bg-color: #434B5C;\n",
              "      --hover-fill-color: #FFFFFF;\n",
              "      --disabled-bg-color: #3B4455;\n",
              "      --disabled-fill-color: #666;\n",
              "  }\n",
              "\n",
              "  .colab-df-quickchart {\n",
              "    background-color: var(--bg-color);\n",
              "    border: none;\n",
              "    border-radius: 50%;\n",
              "    cursor: pointer;\n",
              "    display: none;\n",
              "    fill: var(--fill-color);\n",
              "    height: 32px;\n",
              "    padding: 0;\n",
              "    width: 32px;\n",
              "  }\n",
              "\n",
              "  .colab-df-quickchart:hover {\n",
              "    background-color: var(--hover-bg-color);\n",
              "    box-shadow: 0 1px 2px rgba(60, 64, 67, 0.3), 0 1px 3px 1px rgba(60, 64, 67, 0.15);\n",
              "    fill: var(--button-hover-fill-color);\n",
              "  }\n",
              "\n",
              "  .colab-df-quickchart-complete:disabled,\n",
              "  .colab-df-quickchart-complete:disabled:hover {\n",
              "    background-color: var(--disabled-bg-color);\n",
              "    fill: var(--disabled-fill-color);\n",
              "    box-shadow: none;\n",
              "  }\n",
              "\n",
              "  .colab-df-spinner {\n",
              "    border: 2px solid var(--fill-color);\n",
              "    border-color: transparent;\n",
              "    border-bottom-color: var(--fill-color);\n",
              "    animation:\n",
              "      spin 1s steps(1) infinite;\n",
              "  }\n",
              "\n",
              "  @keyframes spin {\n",
              "    0% {\n",
              "      border-color: transparent;\n",
              "      border-bottom-color: var(--fill-color);\n",
              "      border-left-color: var(--fill-color);\n",
              "    }\n",
              "    20% {\n",
              "      border-color: transparent;\n",
              "      border-left-color: var(--fill-color);\n",
              "      border-top-color: var(--fill-color);\n",
              "    }\n",
              "    30% {\n",
              "      border-color: transparent;\n",
              "      border-left-color: var(--fill-color);\n",
              "      border-top-color: var(--fill-color);\n",
              "      border-right-color: var(--fill-color);\n",
              "    }\n",
              "    40% {\n",
              "      border-color: transparent;\n",
              "      border-right-color: var(--fill-color);\n",
              "      border-top-color: var(--fill-color);\n",
              "    }\n",
              "    60% {\n",
              "      border-color: transparent;\n",
              "      border-right-color: var(--fill-color);\n",
              "    }\n",
              "    80% {\n",
              "      border-color: transparent;\n",
              "      border-right-color: var(--fill-color);\n",
              "      border-bottom-color: var(--fill-color);\n",
              "    }\n",
              "    90% {\n",
              "      border-color: transparent;\n",
              "      border-bottom-color: var(--fill-color);\n",
              "    }\n",
              "  }\n",
              "</style>\n",
              "\n",
              "  <script>\n",
              "    async function quickchart(key) {\n",
              "      const quickchartButtonEl =\n",
              "        document.querySelector('#' + key + ' button');\n",
              "      quickchartButtonEl.disabled = true;  // To prevent multiple clicks.\n",
              "      quickchartButtonEl.classList.add('colab-df-spinner');\n",
              "      try {\n",
              "        const charts = await google.colab.kernel.invokeFunction(\n",
              "            'suggestCharts', [key], {});\n",
              "      } catch (error) {\n",
              "        console.error('Error during call to suggestCharts:', error);\n",
              "      }\n",
              "      quickchartButtonEl.classList.remove('colab-df-spinner');\n",
              "      quickchartButtonEl.classList.add('colab-df-quickchart-complete');\n",
              "    }\n",
              "    (() => {\n",
              "      let quickchartButtonEl =\n",
              "        document.querySelector('#df-43869956-fac3-4725-a0f7-45d47c51a581 button');\n",
              "      quickchartButtonEl.style.display =\n",
              "        google.colab.kernel.accessAllowed ? 'block' : 'none';\n",
              "    })();\n",
              "  </script>\n",
              "</div>\n",
              "    </div>\n",
              "  </div>\n"
            ]
          },
          "metadata": {},
          "execution_count": 75
        }
      ]
    },
    {
      "cell_type": "code",
      "source": [
        "# save model weights and model architecture to a single file\n",
        "model.save('waesch_funcResnet_model_94%.h5')"
      ],
      "metadata": {
        "colab": {
          "base_uri": "https://localhost:8080/"
        },
        "id": "Cf1hjd2mkO82",
        "outputId": "b6c374a6-6524-48cf-c8aa-59755b75a29b"
      },
      "execution_count": 76,
      "outputs": [
        {
          "output_type": "stream",
          "name": "stderr",
          "text": [
            "/usr/local/lib/python3.10/dist-packages/keras/src/engine/training.py:3103: UserWarning: You are saving your model as an HDF5 file via `model.save()`. This file format is considered legacy. We recommend using instead the native Keras format, e.g. `model.save('my_model.keras')`.\n",
            "  saving_api.save_model(\n"
          ]
        }
      ]
    }
  ],
  "metadata": {
    "accelerator": "GPU",
    "colab": {
      "collapsed_sections": [
        "3UIh-RdS4Y51",
        "iFzRJUV44xsU"
      ],
      "provenance": [],
      "gpuType": "T4"
    },
    "kernelspec": {
      "display_name": "Python 3",
      "name": "python3"
    },
    "language_info": {
      "codemirror_mode": {
        "name": "ipython",
        "version": 3
      },
      "file_extension": ".py",
      "mimetype": "text/x-python",
      "name": "python",
      "nbconvert_exporter": "python",
      "pygments_lexer": "ipython3",
      "version": "3.8.18"
    }
  },
  "nbformat": 4,
  "nbformat_minor": 0
}