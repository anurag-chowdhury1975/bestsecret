{
  "nbformat": 4,
  "nbformat_minor": 0,
  "metadata": {
    "colab": {
      "provenance": []
    },
    "kernelspec": {
      "name": "python3",
      "display_name": "Python 3"
    },
    "language_info": {
      "name": "python"
    }
  },
  "cells": [
    {
      "cell_type": "markdown",
      "source": [
        "# Import TensorFlow and other libraries"
      ],
      "metadata": {
        "id": "c0EJnzhhuEFC"
      }
    },
    {
      "cell_type": "code",
      "source": [
        "import matplotlib.pyplot as plt\n",
        "import numpy as np\n",
        "import os\n",
        "import PIL\n",
        "import tensorflow as tf\n",
        "\n",
        "from tensorflow import keras\n",
        "from tensorflow.keras import layers\n",
        "from tensorflow.keras.models import Sequential"
      ],
      "metadata": {
        "id": "TlDbpJHKuC8-"
      },
      "execution_count": 6,
      "outputs": []
    },
    {
      "cell_type": "code",
      "source": [
        "from pydrive2.auth import GoogleAuth\n",
        "from pydrive2.drive import GoogleDrive\n",
        "from google.colab import auth\n",
        "from oauth2client.client import GoogleCredentials"
      ],
      "metadata": {
        "id": "ivcVbh6cylNQ"
      },
      "execution_count": 9,
      "outputs": []
    },
    {
      "cell_type": "markdown",
      "source": [
        "# Download and explore the dataset\n"
      ],
      "metadata": {
        "id": "1mmX59gKunIk"
      }
    },
    {
      "cell_type": "code",
      "source": [
        "auth.authenticate_user()\n",
        "gauth = GoogleAuth()\n",
        "gauth.credentials = GoogleCredentials.get_application_default()\n",
        "drive = GoogleDrive(gauth)\n",
        "\n",
        "f = open(\"failed.txt\",\"w+\")\n",
        "folder_id = '....'\n",
        "os.mkdir('data')\n",
        "root = './data/raw'\n",
        "os.mkdir(root)\n",
        "\n",
        "def escape_fname(name):\n",
        "    return name.replace('/','_')\n",
        "\n",
        "def search_folder(folder_id, root):\n",
        "    file_list = drive.ListFile({'q': \"'%s' in parents and trashed=false\" % folder_id}).GetList()\n",
        "    for file in file_list:\n",
        "        # print('title: %s, id: %s, kind: %s' % (file['title'], file['id'], file['mimeType']))\n",
        "        # print(file)\n",
        "        if file['mimeType'].split('.')[-1] == 'folder':\n",
        "            prod_cat_foldername = file['title'].split('_')[0]\n",
        "            prod_cat_folder = create_folder(root, prod_cat_foldername)\n",
        "            class_foldername = escape_fname(file['title'])\n",
        "            class_folder = create_folder(prod_cat_folder+'/', class_foldername)\n",
        "            search_folder(file['id'], class_folder)\n",
        "        else:\n",
        "            # download_mimetype = None\n",
        "            filename = escape_fname(file['title'])\n",
        "            filename = '{}{}'.format(root+'/', filename)\n",
        "            try:\n",
        "                file.GetContentFile(filename)\n",
        "            except:\n",
        "                print('FAILED')\n",
        "                f.write(filename+'\\n')\n",
        "\n",
        "def create_folder(path,name):\n",
        "    folder = '{}{}'.format(path,escape_fname(name))\n",
        "    if not os.path.isdir(folder):\n",
        "      print(f\"Creating folder: {folder}\")\n",
        "      os.mkdir(folder)\n",
        "    return folder\n",
        "\n",
        "search_folder(folder_id,root+'/')\n",
        "f.close()"
      ],
      "metadata": {
        "colab": {
          "base_uri": "https://localhost:8080/"
        },
        "id": "UD33KhEfyHlr",
        "outputId": "898a86dd-3d74-4446-ee9d-a6bf96c311b4"
      },
      "execution_count": 10,
      "outputs": [
        {
          "output_type": "stream",
          "name": "stdout",
          "text": [
            "Creating folder: ./data/raw/clothes\n",
            "Creating folder: ./data/raw/clothes/clothes_0_model_front\n",
            "Creating folder: ./data/raw/clothes/clothes_2_model_back\n",
            "Creating folder: ./data/raw/clothes/clothes_4_look\n",
            "Creating folder: ./data/raw/clothes/clothes_1_zoomed\n",
            "Creating folder: ./data/raw/clothes/clothes_3_ghost\n"
          ]
        }
      ]
    },
    {
      "cell_type": "code",
      "source": [
        "import pathlib\n",
        "\n",
        "# dataset_url = \"https://drive.google.com/file/d/1wTosLD8TJafup3BFWbvPUsSrktXeeE7K/view?usp=sharing\"\n",
        "# data_dir = tf.keras.utils.get_file('image_data', origin=dataset_url, untar=True)\n",
        "# data_dir = pathlib.Path(dataset_url)\n",
        "\n",
        "# orig_url = \"https://drive.google.com/drive/folders/1OGAwpSWHQgvqQJRndXDudDfZH0tZ1Wu9?usp=drive_link\" # for indivisual file download\n",
        "# file_id = orig_url.split('/')[-2]\n",
        "# dwn_url='https://drive.google.com/uc?export=download&id=' + file_id\n",
        "# data_dir = pathlib.Path(dwn_url)\n",
        "\n",
        "\n",
        "# data_dir = root\n",
        "data_dir = './data/raw/clothes'\n",
        "data_dir = pathlib.Path(data_dir)\n"
      ],
      "metadata": {
        "id": "-TMg8RmBvGXd"
      },
      "execution_count": 28,
      "outputs": []
    },
    {
      "cell_type": "code",
      "source": [
        "data_dir\n"
      ],
      "metadata": {
        "colab": {
          "base_uri": "https://localhost:8080/"
        },
        "id": "ZgCS-ed-W1wO",
        "outputId": "0bb731b3-e736-4204-848a-307ddea917bb"
      },
      "execution_count": 29,
      "outputs": [
        {
          "output_type": "execute_result",
          "data": {
            "text/plain": [
              "PosixPath('data/raw/clothes')"
            ]
          },
          "metadata": {},
          "execution_count": 29
        }
      ]
    },
    {
      "cell_type": "code",
      "source": [
        "# !sudo apt-get install tree"
      ],
      "metadata": {
        "colab": {
          "base_uri": "https://localhost:8080/"
        },
        "id": "wVUl5k5eW9ma",
        "outputId": "3c093d91-dd07-4e11-f99f-0b8b6ff67019"
      },
      "execution_count": 4,
      "outputs": [
        {
          "output_type": "stream",
          "name": "stdout",
          "text": [
            "Reading package lists... Done\n",
            "Building dependency tree... Done\n",
            "Reading state information... Done\n",
            "The following NEW packages will be installed:\n",
            "  tree\n",
            "0 upgraded, 1 newly installed, 0 to remove and 31 not upgraded.\n",
            "Need to get 47.9 kB of archives.\n",
            "After this operation, 116 kB of additional disk space will be used.\n",
            "Get:1 http://archive.ubuntu.com/ubuntu jammy/universe amd64 tree amd64 2.0.2-1 [47.9 kB]\n",
            "Fetched 47.9 kB in 1s (82.5 kB/s)\n",
            "debconf: unable to initialize frontend: Dialog\n",
            "debconf: (No usable dialog-like program is installed, so the dialog based frontend cannot be used. at /usr/share/perl5/Debconf/FrontEnd/Dialog.pm line 78, <> line 1.)\n",
            "debconf: falling back to frontend: Readline\n",
            "debconf: unable to initialize frontend: Readline\n",
            "debconf: (This frontend requires a controlling tty.)\n",
            "debconf: falling back to frontend: Teletype\n",
            "dpkg-preconfigure: unable to re-open stdin: \n",
            "Selecting previously unselected package tree.\n",
            "(Reading database ... 121730 files and directories currently installed.)\n",
            "Preparing to unpack .../tree_2.0.2-1_amd64.deb ...\n",
            "Unpacking tree (2.0.2-1) ...\n",
            "Setting up tree (2.0.2-1) ...\n",
            "Processing triggers for man-db (2.10.2-1) ...\n"
          ]
        }
      ]
    },
    {
      "cell_type": "code",
      "source": [
        "#  !tree --dirsfirst --filelimit 6 '/root/.keras/datasets/image_data'"
      ],
      "metadata": {
        "colab": {
          "base_uri": "https://localhost:8080/"
        },
        "id": "qEgNu0NgXJF0",
        "outputId": "2cd7962e-a834-44b7-dbf5-3b9b0ee62655"
      },
      "execution_count": 5,
      "outputs": [
        {
          "output_type": "stream",
          "name": "stdout",
          "text": [
            "/root/.keras/datasets/image_data  [error opening dir]\n",
            "\n",
            "0 directories, 0 files\n"
          ]
        }
      ]
    },
    {
      "cell_type": "code",
      "source": [
        "# count of all images\n",
        "# image_count = len(list(data_dir.glob('*/*.jpg')))\n",
        "# print(image_count)"
      ],
      "metadata": {
        "colab": {
          "base_uri": "https://localhost:8080/"
        },
        "id": "nnxCLM7iXsqD",
        "outputId": "8da083d5-5dbf-4495-8d13-ed3470946006"
      },
      "execution_count": 26,
      "outputs": [
        {
          "output_type": "stream",
          "name": "stdout",
          "text": [
            "0\n"
          ]
        }
      ]
    },
    {
      "cell_type": "code",
      "source": [
        "# bags = list(data_dir.glob('bag_0_front/*'))\n",
        "# PIL.Image.open(str(bags[1]))"
      ],
      "metadata": {
        "colab": {
          "base_uri": "https://localhost:8080/",
          "height": 193
        },
        "id": "ZoRty1qjYLmB",
        "outputId": "253606ec-25da-4a12-f942-2306787f50ac"
      },
      "execution_count": 16,
      "outputs": [
        {
          "output_type": "error",
          "ename": "IndexError",
          "evalue": "list index out of range",
          "traceback": [
            "\u001b[0;31m---------------------------------------------------------------------------\u001b[0m",
            "\u001b[0;31mIndexError\u001b[0m                                Traceback (most recent call last)",
            "\u001b[0;32m<ipython-input-16-65f68c10f8ff>\u001b[0m in \u001b[0;36m<cell line: 2>\u001b[0;34m()\u001b[0m\n\u001b[1;32m      1\u001b[0m \u001b[0mbags\u001b[0m \u001b[0;34m=\u001b[0m \u001b[0mlist\u001b[0m\u001b[0;34m(\u001b[0m\u001b[0mdata_dir\u001b[0m\u001b[0;34m.\u001b[0m\u001b[0mglob\u001b[0m\u001b[0;34m(\u001b[0m\u001b[0;34m'bag_0_front/*'\u001b[0m\u001b[0;34m)\u001b[0m\u001b[0;34m)\u001b[0m\u001b[0;34m\u001b[0m\u001b[0;34m\u001b[0m\u001b[0m\n\u001b[0;32m----> 2\u001b[0;31m \u001b[0mPIL\u001b[0m\u001b[0;34m.\u001b[0m\u001b[0mImage\u001b[0m\u001b[0;34m.\u001b[0m\u001b[0mopen\u001b[0m\u001b[0;34m(\u001b[0m\u001b[0mstr\u001b[0m\u001b[0;34m(\u001b[0m\u001b[0mbags\u001b[0m\u001b[0;34m[\u001b[0m\u001b[0;36m1\u001b[0m\u001b[0;34m]\u001b[0m\u001b[0;34m)\u001b[0m\u001b[0;34m)\u001b[0m\u001b[0;34m\u001b[0m\u001b[0;34m\u001b[0m\u001b[0m\n\u001b[0m",
            "\u001b[0;31mIndexError\u001b[0m: list index out of range"
          ]
        }
      ]
    },
    {
      "cell_type": "markdown",
      "source": [
        "# Create a dataset\n",
        "- Adopted from DLG_D3_T3_CNN_training_and_transfer_learning"
      ],
      "metadata": {
        "id": "goJ4dBcfsOW8"
      }
    },
    {
      "cell_type": "code",
      "source": [
        "# Define some parameters for the loader:\n",
        "\n",
        "BATCH_SIZE = 32\n",
        "IMG_HEIGHT = 427\n",
        "IMG_WIDTH = 350\n",
        "\n",
        "classes = ['clothes_0_model_front', 'clothes_1_zoomed', 'clothes_2_model_back', 'clothes_3_ghost', 'clothes_4_look']"
      ],
      "metadata": {
        "id": "h1NGBSUbm97g"
      },
      "execution_count": 17,
      "outputs": []
    },
    {
      "cell_type": "code",
      "source": [
        "# 70% of the images are used for training, and 30% for validation\n",
        "train_ds = tf.keras.preprocessing.image_dataset_from_directory(\n",
        "  data_dir,\n",
        "  validation_split=0.7,\n",
        "  subset=\"training\",\n",
        "  seed=42,\n",
        "  class_names=classes,\n",
        "  image_size=(IMG_HEIGHT, IMG_WIDTH),\n",
        "  batch_size=BATCH_SIZE)\n",
        "\n",
        "val_ds = tf.keras.preprocessing.image_dataset_from_directory(\n",
        "  data_dir,\n",
        "  validation_split=0.3,\n",
        "  subset=\"validation\",\n",
        "  seed=42,\n",
        "  class_names=classes,\n",
        "  image_size=(IMG_HEIGHT, IMG_WIDTH),\n",
        "  batch_size=BATCH_SIZE)"
      ],
      "metadata": {
        "colab": {
          "base_uri": "https://localhost:8080/"
        },
        "id": "vyZ_yZl0tdEi",
        "outputId": "4ee9c9ce-a77b-44c4-d14c-bbeaeff67619"
      },
      "execution_count": 64,
      "outputs": [
        {
          "output_type": "stream",
          "name": "stdout",
          "text": [
            "Found 1271 files belonging to 5 classes.\n",
            "Using 382 files for training.\n",
            "Found 1271 files belonging to 5 classes.\n",
            "Using 381 files for validation.\n"
          ]
        }
      ]
    },
    {
      "cell_type": "code",
      "source": [
        "class_names = train_ds.class_names\n",
        "print(class_names)"
      ],
      "metadata": {
        "id": "Q8N_YhkoasDW",
        "colab": {
          "base_uri": "https://localhost:8080/"
        },
        "outputId": "d3410ce7-44c6-4b4c-d0c1-36b4c88307bd"
      },
      "execution_count": 31,
      "outputs": [
        {
          "output_type": "stream",
          "name": "stdout",
          "text": [
            "['clothes_0_model_front', 'clothes_1_zoomed', 'clothes_2_model_back', 'clothes_3_ghost', 'clothes_4_look']\n"
          ]
        }
      ]
    },
    {
      "cell_type": "markdown",
      "source": [
        "# Standardize the data"
      ],
      "metadata": {
        "id": "rHrybXe-deHV"
      }
    },
    {
      "cell_type": "code",
      "source": [
        "# normalization_layer = layers.experimental.preprocessing.Rescaling(1./255)"
      ],
      "metadata": {
        "id": "P3LUiThgdfPs"
      },
      "execution_count": 32,
      "outputs": []
    },
    {
      "cell_type": "markdown",
      "source": [
        "# Create the model"
      ],
      "metadata": {
        "id": "1nPlXXJyd2G3"
      }
    },
    {
      "cell_type": "code",
      "source": [
        "num_classes = 5\n",
        "\n",
        "model = Sequential([\n",
        "\n",
        "  layers.experimental.preprocessing.Rescaling(1./255, input_shape=(IMG_HEIGHT, IMG_WIDTH, 3)), # Standardize the data\n",
        "\n",
        "  layers.Conv2D(16, 3, padding='same', activation='relu'),\n",
        "  layers.MaxPooling2D(),\n",
        "\n",
        "  layers.Conv2D(32, 3, padding='same', activation='relu'),\n",
        "  layers.MaxPooling2D(),\n",
        "\n",
        "  layers.Conv2D(64, 3, padding='same', activation='relu'),\n",
        "  layers.MaxPooling2D(),\n",
        "\n",
        "  layers.Flatten(),\n",
        "\n",
        "  layers.Dense(256, activation='relu'),\n",
        "\n",
        "  layers.Dense(num_classes, activation='softmax')\n",
        "\n",
        "])"
      ],
      "metadata": {
        "id": "ehwzjzOVd3pE"
      },
      "execution_count": 65,
      "outputs": []
    },
    {
      "cell_type": "markdown",
      "source": [
        "# Compile the model"
      ],
      "metadata": {
        "id": "9jTLSTISePLy"
      }
    },
    {
      "cell_type": "code",
      "source": [
        "model.compile(optimizer='adam',\n",
        "              loss=tf.keras.losses.SparseCategoricalCrossentropy(),\n",
        "              metrics=['accuracy'])"
      ],
      "metadata": {
        "id": "9vAGzxdteQdi"
      },
      "execution_count": 68,
      "outputs": []
    },
    {
      "cell_type": "markdown",
      "source": [
        "# Model summary"
      ],
      "metadata": {
        "id": "Lc8jI4jZeUa2"
      }
    },
    {
      "cell_type": "code",
      "source": [
        "model.summary()"
      ],
      "metadata": {
        "id": "LWGldSW7eVYz",
        "colab": {
          "base_uri": "https://localhost:8080/"
        },
        "outputId": "50da1c0c-f7fb-447a-9762-26b52b5f6648"
      },
      "execution_count": 69,
      "outputs": [
        {
          "output_type": "stream",
          "name": "stdout",
          "text": [
            "Model: \"sequential_1\"\n",
            "_________________________________________________________________\n",
            " Layer (type)                Output Shape              Param #   \n",
            "=================================================================\n",
            " rescaling_2 (Rescaling)     (None, 427, 350, 3)       0         \n",
            "                                                                 \n",
            " conv2d_3 (Conv2D)           (None, 427, 350, 16)      448       \n",
            "                                                                 \n",
            " max_pooling2d_3 (MaxPoolin  (None, 213, 175, 16)      0         \n",
            " g2D)                                                            \n",
            "                                                                 \n",
            " conv2d_4 (Conv2D)           (None, 213, 175, 32)      4640      \n",
            "                                                                 \n",
            " max_pooling2d_4 (MaxPoolin  (None, 106, 87, 32)       0         \n",
            " g2D)                                                            \n",
            "                                                                 \n",
            " conv2d_5 (Conv2D)           (None, 106, 87, 64)       18496     \n",
            "                                                                 \n",
            " max_pooling2d_5 (MaxPoolin  (None, 53, 43, 64)        0         \n",
            " g2D)                                                            \n",
            "                                                                 \n",
            " flatten_1 (Flatten)         (None, 145856)            0         \n",
            "                                                                 \n",
            " dense_2 (Dense)             (None, 256)               37339392  \n",
            "                                                                 \n",
            " dense_3 (Dense)             (None, 5)                 1285      \n",
            "                                                                 \n",
            "=================================================================\n",
            "Total params: 37364261 (142.53 MB)\n",
            "Trainable params: 37364261 (142.53 MB)\n",
            "Non-trainable params: 0 (0.00 Byte)\n",
            "_________________________________________________________________\n"
          ]
        }
      ]
    },
    {
      "cell_type": "markdown",
      "source": [
        "# Find the defected images\n",
        "- to address the following error:\n",
        "    - # InvalidArgumentError'>,Invalid JPEG data or crop window\n",
        "    - # jpeg::Uncompress failed. Invalid JPEG data or crop window"
      ],
      "metadata": {
        "id": "M0pra0lUB3j9"
      }
    },
    {
      "cell_type": "code",
      "source": [
        "# adopted from: https://github.com/tensorflow/tpu/issues/455#issuecomment-748435374\n",
        "# adopted from: https://github.com/tensorflow/tpu/issues/455#issuecomment-911746254\n",
        "\n",
        "from struct import unpack\n",
        "from tqdm import tqdm\n",
        "import os\n",
        "\n",
        "image_file = '/content/data/raw/clothes' #???_F\n",
        "\n",
        "marker_mapping = {\n",
        "    0xffd8: \"Start of Image\",\n",
        "    0xffe0: \"Application Default Header\",\n",
        "    0xffdb: \"Quantization Table\",\n",
        "    0xffc0: \"Start of Frame\",\n",
        "    0xffc4: \"Define Huffman Table\",\n",
        "    0xffda: \"Start of Scan\",\n",
        "    0xffd9: \"End of Image\"\n",
        "}\n",
        "\n",
        "\n",
        "class JPEG:\n",
        "    def __init__(self, image_file):\n",
        "        with open(image_file, 'rb') as f:\n",
        "            self.img_data = f.read()\n",
        "\n",
        "    def decode(self):\n",
        "        data = self.img_data\n",
        "        while(True):\n",
        "            marker, = unpack(\">H\", data[0:2])\n",
        "            # print(marker_mapping.get(marker))\n",
        "            if marker == 0xffd8:\n",
        "                data = data[2:]\n",
        "            elif marker == 0xffd9:\n",
        "                return\n",
        "            elif marker == 0xffda:\n",
        "                data = data[-2:]\n",
        "            else:\n",
        "                lenchunk, = unpack(\">H\", data[2:4])\n",
        "                data = data[2+lenchunk:]\n",
        "            if len(data)==0:\n",
        "               raise TypeError(\"issue reading jpeg file\")\n",
        "\n",
        "\n",
        "bads = []\n",
        "\n",
        "# img_dir = './content/data/raw/clothes/' # ????_F\n",
        "img_dir = '/content/data/raw/clothes'\n",
        "\n",
        "# root_img = './content/data/raw/clothes'\n",
        "\n",
        "for dirName, subdirList, fileList in os.walk(img_dir):\n",
        "    imagesList = fileList\n",
        "    for img in tqdm(imagesList): # tqdm is just for visualizing progress bar for \"for loop\". It, 'tqdm(imagesList)', may be replaced by the imagesList\n",
        "      image = os.path.join(dirName,img)\n",
        "      image = JPEG(image)\n",
        "      try:\n",
        "        image.decode()\n",
        "      except:\n",
        "        bads.append(dirName+'/'+img)\n",
        "\n",
        "\n",
        "# for name in bads:\n",
        "#   os.remove(os.path.join(dirName,name))"
      ],
      "metadata": {
        "colab": {
          "base_uri": "https://localhost:8080/"
        },
        "id": "O70ZExXpB3Jo",
        "outputId": "46a6d14c-0a4f-4e2c-8b71-1904ee604f60"
      },
      "execution_count": 56,
      "outputs": [
        {
          "output_type": "stream",
          "name": "stderr",
          "text": [
            "0it [00:00, ?it/s]\n",
            "100%|██████████| 247/247 [00:00<00:00, 9594.66it/s]\n",
            "100%|██████████| 287/287 [00:00<00:00, 6081.43it/s]\n",
            "100%|██████████| 236/236 [00:00<00:00, 8366.13it/s]\n",
            "100%|██████████| 279/279 [00:00<00:00, 11435.21it/s]\n",
            "100%|██████████| 223/223 [00:00<00:00, 10648.71it/s]\n"
          ]
        }
      ]
    },
    {
      "cell_type": "code",
      "source": [
        "# os.path.join(*img_dir.split('/'))  # makes the path system (OS) agnostic"
      ],
      "metadata": {
        "id": "PBNVjrLQsBkJ"
      },
      "execution_count": 76,
      "outputs": []
    },
    {
      "cell_type": "code",
      "source": [
        "bads # ['/content/data/raw/clothes/clothes_1_zoomed/32760559-001.jpg']"
      ],
      "metadata": {
        "colab": {
          "base_uri": "https://localhost:8080/"
        },
        "id": "YkGeyZQWB24f",
        "outputId": "e96115f9-dcd8-46b8-98bc-4c580c3f60ea"
      },
      "execution_count": 57,
      "outputs": [
        {
          "output_type": "execute_result",
          "data": {
            "text/plain": [
              "['/content/data/raw/clothes/clothes_1_zoomed/32760559-001.jpg']"
            ]
          },
          "metadata": {},
          "execution_count": 57
        }
      ]
    },
    {
      "cell_type": "code",
      "source": [
        "# remove the truncated image file\n",
        "for name in bads:\n",
        "  os.remove(os.path.join(dirName,name))\n",
        "\n",
        "''' after removing the defected image ('/content/data/raw/clothes/clothes_1_zoomed/32760559-001.jpg'), we need to rerun the train-validation split functions:\n",
        " (f.keras.preprocessing.image_dataset_from_directory), model creation, model compile, and model training steps\n",
        "'''"
      ],
      "metadata": {
        "id": "EZdnGI3NSNj_"
      },
      "execution_count": 61,
      "outputs": []
    },
    {
      "cell_type": "code",
      "source": [
        "# bads_np_arr = np.array(bads)\n",
        "\n",
        "# # from matplotlib import pyplot as plt\n",
        "# # plt.imshow(bads_np_arr, interpolation='nearest')\n",
        "# # plt.show()\n",
        "\n",
        "# image = plt.imread('/content/data/raw/clothes/clothes_1_zoomed/32760559-001.jpg')\n",
        "# plt.imshow(image)"
      ],
      "metadata": {
        "id": "F7xlv5lsOsKF"
      },
      "execution_count": 62,
      "outputs": []
    },
    {
      "cell_type": "markdown",
      "source": [
        "# Train the model"
      ],
      "metadata": {
        "id": "RmaOj9MkeaQj"
      }
    },
    {
      "cell_type": "code",
      "source": [
        "epochs=10\n",
        "history = model.fit(\n",
        "  train_ds,\n",
        "  validation_data=val_ds,\n",
        "  epochs=epochs\n",
        ")"
      ],
      "metadata": {
        "id": "aiOU13-5ea8L",
        "colab": {
          "base_uri": "https://localhost:8080/"
        },
        "outputId": "63968b0d-af35-4797-b5e9-9d0444b47aa0"
      },
      "execution_count": 70,
      "outputs": [
        {
          "output_type": "stream",
          "name": "stdout",
          "text": [
            "Epoch 1/10\n",
            "12/12 [==============================] - 95s 8s/step - loss: 7.3384 - accuracy: 0.2592 - val_loss: 0.9498 - val_accuracy: 0.6562\n",
            "Epoch 2/10\n",
            "12/12 [==============================] - 109s 9s/step - loss: 0.7215 - accuracy: 0.6806 - val_loss: 0.6487 - val_accuracy: 0.7139\n",
            "Epoch 3/10\n",
            "12/12 [==============================] - 87s 7s/step - loss: 0.3818 - accuracy: 0.8272 - val_loss: 0.6201 - val_accuracy: 0.7717\n",
            "Epoch 4/10\n",
            "12/12 [==============================] - 92s 8s/step - loss: 0.2054 - accuracy: 0.9241 - val_loss: 0.5184 - val_accuracy: 0.8425\n",
            "Epoch 5/10\n",
            "12/12 [==============================] - 87s 7s/step - loss: 0.0800 - accuracy: 0.9764 - val_loss: 0.5260 - val_accuracy: 0.8556\n",
            "Epoch 6/10\n",
            "12/12 [==============================] - 84s 7s/step - loss: 0.1196 - accuracy: 0.9581 - val_loss: 0.7643 - val_accuracy: 0.7769\n",
            "Epoch 7/10\n",
            "12/12 [==============================] - 84s 7s/step - loss: 0.1290 - accuracy: 0.9660 - val_loss: 0.7040 - val_accuracy: 0.8110\n",
            "Epoch 8/10\n",
            "12/12 [==============================] - 88s 7s/step - loss: 0.0578 - accuracy: 0.9817 - val_loss: 0.9222 - val_accuracy: 0.7953\n",
            "Epoch 9/10\n",
            "12/12 [==============================] - 88s 7s/step - loss: 0.0586 - accuracy: 0.9817 - val_loss: 0.8774 - val_accuracy: 0.8268\n",
            "Epoch 10/10\n",
            "12/12 [==============================] - 98s 8s/step - loss: 0.0596 - accuracy: 0.9764 - val_loss: 1.0302 - val_accuracy: 0.8189\n"
          ]
        }
      ]
    },
    {
      "cell_type": "markdown",
      "source": [
        "# Training results visualization"
      ],
      "metadata": {
        "id": "A_TsarjqYV3b"
      }
    },
    {
      "cell_type": "code",
      "source": [
        "# Creates plots of loss and accuracy on the training and validation sets\n",
        "\n",
        "acc = history.history['accuracy']\n",
        "val_acc = history.history['val_accuracy']\n",
        "\n",
        "loss=history.history['loss']\n",
        "val_loss=history.history['val_loss']\n",
        "\n",
        "epochs_range = range(epochs)\n",
        "\n",
        "plt.figure(figsize=(12, 6))\n",
        "plt.subplot(1, 2, 1)\n",
        "plt.plot(epochs_range, acc, label='Training Accuracy')\n",
        "plt.plot(epochs_range, val_acc, label='Validation Accuracy')\n",
        "plt.legend(loc='lower right')\n",
        "plt.title('Training and Validation Accuracy')\n",
        "\n",
        "plt.subplot(1, 2, 2)\n",
        "plt.plot(epochs_range, loss, label='Training Loss')\n",
        "plt.plot(epochs_range, val_loss, label='Validation Loss')\n",
        "plt.legend(loc='upper right')\n",
        "plt.title('Training and Validation Loss')\n",
        "plt.show()"
      ],
      "metadata": {
        "colab": {
          "base_uri": "https://localhost:8080/",
          "height": 545
        },
        "id": "330PIB96YdY8",
        "outputId": "f46b7b9d-a2bb-46ee-c465-73f36e6242d1"
      },
      "execution_count": 71,
      "outputs": [
        {
          "output_type": "display_data",
          "data": {
            "text/plain": [
              "<Figure size 1200x600 with 2 Axes>"
            ],
            "image/png": "[encoded data removed]"
          },
          "metadata": {}
        }
      ]
    },
    {
      "cell_type": "code",
      "source": [
        "# TODO:\n",
        "\n",
        "# dropout # DLG_D3_T3_CNN_training_and_transfer_learning\n",
        "# augmentation # DLG_D3-4_E2_Transfer_Learning (day3&4-helper notebook2)\n",
        "# early stopping DLG_D3_T3_CNN_training_and_transfer_learning\n",
        "# model validation/ model report/ classification report/ model metrics calculation?? # Part2_Transfer_Learning_solution_D3 # Part2_Transfer_Learning_solution_Fine_Tuning_D4 # DLG_D3-4_E2_Transfer_Learning (day3&4-helper notebook2)\n",
        "                                                                                      # https://scikit-learn.org/stable/modules/generated/sklearn.metrics.classification_report.html\n",
        "\n",
        "# confusion matrix ??"
      ],
      "metadata": {
        "id": "61u0HdD2ZpCR"
      },
      "execution_count": null,
      "outputs": []
    }
  ]
}